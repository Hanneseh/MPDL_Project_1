{
  "cells": [
    {
      "cell_type": "code",
      "execution_count": null,
      "metadata": {
        "colab": {
          "base_uri": "https://localhost:8080/"
        },
        "id": "8wkMV9Dd6znu",
        "outputId": "5afda038-b712-4d0c-c340-a6d93b3cc22e"
      },
      "outputs": [],
      "source": [
        "pip install datasets"
      ]
    },
    {
      "cell_type": "code",
      "execution_count": null,
      "metadata": {
        "colab": {
          "base_uri": "https://localhost:8080/"
        },
        "id": "67UMquIX7kGC",
        "outputId": "b9ca4c1b-1e7e-4eef-87c1-c5edd83c0d0f"
      },
      "outputs": [],
      "source": [
        "pip install transformers"
      ]
    },
    {
      "cell_type": "code",
      "execution_count": 1,
      "metadata": {
        "_cell_guid": "b1076dfc-b9ad-4769-8c92-a6c4dae69d19",
        "_uuid": "8f2839f25d086af736a60e9eeb907d3b93b6e0e5",
        "collapsed": true,
        "execution": {
          "iopub.execute_input": "2023-04-17T19:22:03.675041Z",
          "iopub.status.busy": "2023-04-17T19:22:03.674769Z",
          "iopub.status.idle": "2023-04-17T19:24:32.961316Z",
          "shell.execute_reply": "2023-04-17T19:24:32.960221Z",
          "shell.execute_reply.started": "2023-04-17T19:22:03.675015Z"
        },
        "id": "mVRKvY7ZwCPn",
        "jupyter": {
          "outputs_hidden": true
        },
        "trusted": true
      },
      "outputs": [],
      "source": [
        "\n",
        "from transformers import AutoTokenizer\n",
        "import torch\n",
        "import torchvision\n",
        "import torchvision.transforms as transforms\n",
        "from torchvision.transforms import Compose, ColorJitter, ToTensor, Resize\n",
        "from torchvision.models import ResNet50_Weights\n",
        "from torch.utils.data import DataLoader\n",
        "from tqdm import tqdm\n",
        "from time import sleep\n",
        "from PIL import ImageFile\n",
        "ImageFile.LOAD_TRUNCATED_IMAGES = True"
      ]
    },
    {
      "cell_type": "code",
      "execution_count": 2,
      "metadata": {
        "colab": {
          "base_uri": "https://localhost:8080/",
          "height": 86,
          "referenced_widgets": [
            "8ab3f1284a4143f0b7162bac10848480",
            "5dbaeed63fe94962a9d62b86ccf9e852",
            "9a865e03d2264f99b07065a297e7836f",
            "e2e437182a0347548be0224880de6ef1",
            "c9eb827f1d0b49a799f1f98b6dfe1899",
            "55d308d6510b47baa09a642b3dcb456c",
            "3f7b7d80702f431ea0a6d68110f67595",
            "54d67f51cc4c432eb354bf946f341e2e",
            "78fba33a98a142edb4cd425b64c1c77a",
            "93ec292cf20d4547a465e2c160f61c4c",
            "e93172aecf0e4f308fc6cfcebd846089"
          ]
        },
        "id": "Sy8O_avJ6OyQ",
        "outputId": "84b0bc35-9854-4dfe-de7c-073ad0a532ed"
      },
      "outputs": [
        {
          "name": "stderr",
          "output_type": "stream",
          "text": [
            "WARNING:datasets.builder:Found cached dataset parquet (/root/.cache/huggingface/datasets/Bingsu___parquet/Bingsu--Gameplay_Images-04abe87917da5b4f/0.0.0/2a3b91fbd88a2c90d1dbbb32b460cf621d31bd5b05b934492fdef7d8d6f236ec)\n"
          ]
        },
        {
          "data": {
            "application/vnd.jupyter.widget-view+json": {
              "model_id": "8ab3f1284a4143f0b7162bac10848480",
              "version_major": 2,
              "version_minor": 0
            },
            "text/plain": [
              "  0%|          | 0/1 [00:00<?, ?it/s]"
            ]
          },
          "metadata": {},
          "output_type": "display_data"
        }
      ],
      "source": [
        "from datasets import load_dataset\n",
        "\n",
        "dataset = load_dataset(\"Bingsu/Gameplay_Images\")"
      ]
    },
    {
      "cell_type": "code",
      "execution_count": 3,
      "metadata": {
        "colab": {
          "base_uri": "https://localhost:8080/"
        },
        "id": "wH_soFpoFX4N",
        "outputId": "f37a86ac-d9d3-4910-a13c-502c4ba0561c"
      },
      "outputs": [
        {
          "name": "stderr",
          "output_type": "stream",
          "text": [
            "WARNING:datasets.arrow_dataset:Loading cached split indices for dataset at /root/.cache/huggingface/datasets/Bingsu___parquet/Bingsu--Gameplay_Images-04abe87917da5b4f/0.0.0/2a3b91fbd88a2c90d1dbbb32b460cf621d31bd5b05b934492fdef7d8d6f236ec/cache-ab6b47ca8ce899bc.arrow and /root/.cache/huggingface/datasets/Bingsu___parquet/Bingsu--Gameplay_Images-04abe87917da5b4f/0.0.0/2a3b91fbd88a2c90d1dbbb32b460cf621d31bd5b05b934492fdef7d8d6f236ec/cache-191a8afdaf569698.arrow\n"
          ]
        }
      ],
      "source": [
        "dataset = dataset[\"train\"].train_test_split(0.2, seed=42, stratify_by_column=\"label\")"
      ]
    },
    {
      "cell_type": "code",
      "execution_count": 4,
      "metadata": {
        "id": "d3gG_1TzClYW"
      },
      "outputs": [],
      "source": [
        "jitter = Compose(\n",
        "    [ ToTensor()]\n",
        ")"
      ]
    },
    {
      "cell_type": "code",
      "execution_count": 6,
      "metadata": {
        "id": "3mxw3SkjCoe7"
      },
      "outputs": [],
      "source": [
        "def transforms(examples):\n",
        "\n",
        "    examples[\"pixel_values\"] = [jitter(image.convert(\"RGB\")) for image in examples[\"image\"]]\n",
        "\n",
        "    return examples"
      ]
    },
    {
      "cell_type": "code",
      "execution_count": 7,
      "metadata": {
        "id": "kKlHJgJ5CzvG"
      },
      "outputs": [],
      "source": [
        "dataset = dataset.with_transform(transforms)"
      ]
    },
    {
      "cell_type": "code",
      "execution_count": 8,
      "metadata": {
        "execution": {
          "iopub.execute_input": "2023-04-17T19:24:32.963952Z",
          "iopub.status.busy": "2023-04-17T19:24:32.963019Z",
          "iopub.status.idle": "2023-04-17T19:24:33.075268Z",
          "shell.execute_reply": "2023-04-17T19:24:33.073884Z",
          "shell.execute_reply.started": "2023-04-17T19:24:32.963909Z"
        },
        "id": "iJDFiq33wCPz",
        "trusted": true
      },
      "outputs": [],
      "source": [
        "# Set device\n",
        "device = torch.device(\"cuda\" if torch.cuda.is_available() else \"cpu\")\n",
        "\n",
        "# Set hyperparameters\n",
        "num_epochs = 10\n",
        "batch_size = 32\n",
        "learning_rate = 0.001"
      ]
    },
    {
      "cell_type": "code",
      "execution_count": 9,
      "metadata": {
        "id": "wEHA_t-4C3Zl"
      },
      "outputs": [],
      "source": [
        "def collate_fn(examples):\n",
        "\n",
        "    images = []\n",
        "\n",
        "    labels = []\n",
        "\n",
        "    for example in examples:\n",
        "\n",
        "        images.append((example[\"pixel_values\"]))\n",
        "\n",
        "        labels.append(example[\"label\"])\n",
        "\n",
        "        \n",
        "\n",
        "    pixel_values = torch.stack(images)\n",
        "\n",
        "    labels = torch.tensor(labels)\n",
        "\n",
        "    return {\"pixel_values\": pixel_values, \"label\": labels}\n",
        "\n",
        "train_dataloader = DataLoader(dataset[\"train\"], collate_fn=collate_fn, batch_size=batch_size)\n",
        "val_dataloader =  DataLoader(dataset[\"test\"], collate_fn=collate_fn, batch_size=batch_size)"
      ]
    },
    {
      "cell_type": "code",
      "execution_count": 10,
      "metadata": {
        "execution": {
          "iopub.status.busy": "2023-04-17T18:02:12.490371Z",
          "iopub.status.idle": "2023-04-17T18:02:12.491196Z",
          "shell.execute_reply": "2023-04-17T18:02:12.490964Z",
          "shell.execute_reply.started": "2023-04-17T18:02:12.490938Z"
        },
        "id": "NE3OFkQqwCP7",
        "trusted": true
      },
      "outputs": [],
      "source": [
        "model = torchvision.models.resnet50(weights=ResNet50_Weights.IMAGENET1K_V2)"
      ]
    },
    {
      "cell_type": "code",
      "execution_count": 11,
      "metadata": {
        "execution": {
          "iopub.status.busy": "2023-04-17T18:02:12.492656Z",
          "iopub.status.idle": "2023-04-17T18:02:12.493488Z",
          "shell.execute_reply": "2023-04-17T18:02:12.493257Z",
          "shell.execute_reply.started": "2023-04-17T18:02:12.493230Z"
        },
        "id": "5-TLZDWWwCP8",
        "trusted": true
      },
      "outputs": [],
      "source": [
        "model = model.to(device)\n",
        "\n",
        "# Define the loss function and optimizer\n",
        "criterion = torch.nn.CrossEntropyLoss()\n",
        "optimizer = torch.optim.Adam(model.parameters(), lr=learning_rate)"
      ]
    },
    {
      "cell_type": "code",
      "execution_count": 12,
      "metadata": {
        "execution": {
          "iopub.status.busy": "2023-04-17T18:02:12.494968Z",
          "iopub.status.idle": "2023-04-17T18:02:12.495787Z",
          "shell.execute_reply": "2023-04-17T18:02:12.495516Z",
          "shell.execute_reply.started": "2023-04-17T18:02:12.495489Z"
        },
        "id": "CMDF27Z1wCP8",
        "trusted": true
      },
      "outputs": [],
      "source": [
        "tr = model.train()"
      ]
    },
    {
      "cell_type": "code",
      "execution_count": 13,
      "metadata": {
        "colab": {
          "base_uri": "https://localhost:8080/"
        },
        "id": "ZYtw2z5x8Azj",
        "outputId": "b65e7436-8433-4e34-da5f-c3932d2a880d"
      },
      "outputs": [
        {
          "data": {
            "text/plain": [
              "DatasetDict({\n",
              "    train: Dataset({\n",
              "        features: ['image', 'label'],\n",
              "        num_rows: 8000\n",
              "    })\n",
              "    test: Dataset({\n",
              "        features: ['image', 'label'],\n",
              "        num_rows: 2000\n",
              "    })\n",
              "})"
            ]
          },
          "execution_count": 13,
          "metadata": {},
          "output_type": "execute_result"
        }
      ],
      "source": [
        "dataset"
      ]
    },
    {
      "cell_type": "code",
      "execution_count": 14,
      "metadata": {
        "id": "MtjNguEzQh_N"
      },
      "outputs": [],
      "source": [
        "train_accu = []\n",
        "train_losses = []\n",
        "\n",
        "def train(epoch,data):\n",
        "    print('\\nEpoch : %d'%epoch)\n",
        "    correct = 0\n",
        "    running_loss=0\n",
        "    total=0\n",
        "    for element in data:\n",
        "        # Move input and label tensors to the device\n",
        "        inputs = element[\"pixel_values\"].to(device)\n",
        "        labels = element[\"label\"].to(device)\n",
        "\n",
        "        # Zero out the optimizer\n",
        "        optimizer.zero_grad()\n",
        "\n",
        "        # Forward pass\n",
        "        outputs = model(inputs)\n",
        "        loss = criterion(outputs, labels)\n",
        "\n",
        "        # Backward pass\n",
        "        loss.backward()\n",
        "        optimizer.step()\n",
        "        running_loss += loss.item()\n",
        "\n",
        "        _, predicted = outputs.max(1)\n",
        "        total += labels.size(0)\n",
        "        correct += predicted.eq(labels).sum().item()\n",
        "\n",
        "    train_loss=running_loss/len(data)\n",
        "    accu=100.*correct/total\n",
        "\n",
        "    train_accu.append(accu)\n",
        "    train_losses.append(train_loss)\n",
        "    print('Train Loss: %.3f | Accuracy: %.3f'%(train_loss,accu))\n"
      ]
    },
    {
      "cell_type": "code",
      "execution_count": 15,
      "metadata": {
        "id": "LOEp6-AR_LMN"
      },
      "outputs": [],
      "source": [
        "eval_losses=[]\n",
        "eval_accu=[]\n",
        "\n",
        "def val(data):\n",
        "    correct = 0\n",
        "    running_loss=0\n",
        "    total=0\n",
        "    with torch.no_grad():\n",
        "      for element in data:\n",
        "          # Move input and label tensors to the device\n",
        "          inputs = element[\"pixel_values\"].to(device)\n",
        "          labels = element[\"label\"].to(device)\n",
        "\n",
        "        \n",
        "          outputs = model(inputs)\n",
        "          loss = criterion(outputs, labels)\n",
        "          running_loss += loss.item()\n",
        "\n",
        "          _, predicted = outputs.max(1)\n",
        "          total += labels.size(0)\n",
        "          correct += predicted.eq(labels).sum().item()\n",
        "\n",
        "    val_loss=running_loss/len(data)\n",
        "    accu=100.*correct/total\n",
        "\n",
        "    eval_accu.append(accu)\n",
        "    eval_losses.append(val_loss)\n",
        "    print('Val Loss: %.3f | Accuracy: %.3f'%(val_loss,accu))\n"
      ]
    },
    {
      "cell_type": "code",
      "execution_count": 16,
      "metadata": {
        "colab": {
          "base_uri": "https://localhost:8080/"
        },
        "id": "JwmVS4_GBKTM",
        "outputId": "328e743a-680f-4114-b1c4-935f0c738749"
      },
      "outputs": [
        {
          "name": "stdout",
          "output_type": "stream",
          "text": [
            "\n",
            "Epoch : 1\n",
            "Train Loss: 0.216 | Accuracy: 95.463\n",
            "Val Loss: 0.038 | Accuracy: 98.900\n",
            "\n",
            "Epoch : 2\n",
            "Train Loss: 0.030 | Accuracy: 99.088\n",
            "Val Loss: 0.027 | Accuracy: 99.300\n",
            "\n",
            "Epoch : 3\n",
            "Train Loss: 0.068 | Accuracy: 98.037\n",
            "Val Loss: 0.050 | Accuracy: 98.300\n",
            "\n",
            "Epoch : 4\n",
            "Train Loss: 0.018 | Accuracy: 99.412\n",
            "Val Loss: 0.015 | Accuracy: 99.500\n",
            "\n",
            "Epoch : 5\n",
            "Train Loss: 0.005 | Accuracy: 99.838\n",
            "Val Loss: 0.017 | Accuracy: 99.500\n",
            "\n",
            "Epoch : 6\n",
            "Train Loss: 0.003 | Accuracy: 99.912\n",
            "Val Loss: 0.013 | Accuracy: 99.600\n",
            "\n",
            "Epoch : 7\n",
            "Train Loss: 0.069 | Accuracy: 98.338\n",
            "Val Loss: 0.114 | Accuracy: 97.150\n",
            "\n",
            "Epoch : 8\n",
            "Train Loss: 0.033 | Accuracy: 99.062\n",
            "Val Loss: 0.042 | Accuracy: 99.100\n",
            "\n",
            "Epoch : 9\n",
            "Train Loss: 0.020 | Accuracy: 99.438\n",
            "Val Loss: 0.026 | Accuracy: 99.250\n",
            "\n",
            "Epoch : 10\n",
            "Train Loss: 0.013 | Accuracy: 99.650\n",
            "Val Loss: 0.021 | Accuracy: 99.500\n"
          ]
        }
      ],
      "source": [
        "epochs=10\n",
        "for epoch in range(1,epochs+1):\n",
        "  train(epoch,train_dataloader)\n",
        "  val(val_dataloader)"
      ]
    },
    {
      "cell_type": "code",
      "execution_count": 17,
      "metadata": {
        "id": "6PGFpxL4CCTV"
      },
      "outputs": [],
      "source": [
        "import matplotlib.pyplot as plt"
      ]
    },
    {
      "cell_type": "code",
      "execution_count": 18,
      "metadata": {
        "colab": {
          "base_uri": "https://localhost:8080/",
          "height": 472
        },
        "id": "a7lXmbTjB6_v",
        "outputId": "b05122e3-3f2b-46ba-a90d-d186a717aa85"
      },
      "outputs": [
        {
          "data": {
            "image/png": "[encoded data removed]",
            "text/plain": [
              "<Figure size 640x480 with 1 Axes>"
            ]
          },
          "metadata": {},
          "output_type": "display_data"
        }
      ],
      "source": [
        "plt.plot(train_accu,'-o')\n",
        "plt.plot(eval_accu,'-o')\n",
        "plt.xlabel('epoch')\n",
        "plt.ylabel('accuracy')\n",
        "plt.legend(['Train','Valid'])\n",
        "plt.title('Train vs Valid Accuracy')\n",
        "\n",
        "plt.show()"
      ]
    },
    {
      "cell_type": "code",
      "execution_count": 19,
      "metadata": {
        "colab": {
          "base_uri": "https://localhost:8080/",
          "height": 472
        },
        "id": "hm7Ml4fTB-7z",
        "outputId": "c820107b-6790-492e-b1c8-39f573ca8b2b"
      },
      "outputs": [
        {
          "data": {
            "image/png": "[encoded data removed]",
            "text/plain": [
              "<Figure size 640x480 with 1 Axes>"
            ]
          },
          "metadata": {},
          "output_type": "display_data"
        }
      ],
      "source": [
        "plt.plot(train_losses,'-o')\n",
        "plt.plot(eval_losses,'-o')\n",
        "plt.xlabel('epoch')\n",
        "plt.ylabel('losses')\n",
        "plt.legend(['Train','Valid'])\n",
        "plt.title('Train vs Valid Losses')\n",
        "\n",
        "plt.show()"
      ]
    },
    {
      "cell_type": "code",
      "execution_count": 20,
      "metadata": {
        "id": "TAC-D9f3VJXb"
      },
      "outputs": [],
      "source": [
        "PATH = './bigust.pth'\n",
        "torch.save(model.state_dict(), PATH)"
      ]
    },
    {
      "cell_type": "code",
      "execution_count": 21,
      "metadata": {
        "colab": {
          "base_uri": "https://localhost:8080/"
        },
        "id": "jc3fn_PRVIme",
        "outputId": "cd85d24a-2474-4cf7-c5f2-a416b21d5f55"
      },
      "outputs": [
        {
          "name": "stdout",
          "output_type": "stream",
          "text": [
            "tensor([6], device='cuda:0')\n"
          ]
        }
      ],
      "source": [
        "from PIL import Image\n",
        "\n",
        "model.eval()\n",
        "image = Image.open('dow.jpg')\n",
        "  \n",
        "# Define a transform to convert PIL \n",
        "# image to a Torch tensor\n",
        "transform = Compose([\n",
        "    ToTensor()\n",
        "])\n",
        "  \n",
        "# transform = transforms.PILToTensor()\n",
        "# Convert the PIL image to Torch tensor\n",
        "\n",
        "img_tensor = transform(image)\n",
        "\n",
        "inputs = img_tensor.to(device)\n",
        "\n",
        "with torch.no_grad():\n",
        "    outputs = model(inputs.unsqueeze(0))\n",
        "    _, predicted = torch.max(outputs.data, 1)\n",
        "    \n",
        "    print(predicted)"
      ]
    },
    {
      "cell_type": "code",
      "execution_count": 22,
      "metadata": {
        "colab": {
          "base_uri": "https://localhost:8080/",
          "height": 35
        },
        "id": "HUywNTdEXFI0",
        "outputId": "1dedbe3d-cfd3-4cb1-85fb-9a5aa80e3c92"
      },
      "outputs": [
        {
          "data": {
            "application/vnd.google.colaboratory.intrinsic+json": {
              "type": "string"
            },
            "text/plain": [
              "'God of War'"
            ]
          },
          "execution_count": 22,
          "metadata": {},
          "output_type": "execute_result"
        }
      ],
      "source": [
        "dataset[\"train\"].features[\"label\"].names[predicted]"
      ]
    },
    {
      "cell_type": "code",
      "execution_count": 23,
      "metadata": {
        "colab": {
          "base_uri": "https://localhost:8080/"
        },
        "id": "L5lXGvKdVfpU",
        "outputId": "34ce4d91-33b9-48f4-a4fa-be9bf459338d"
      },
      "outputs": [
        {
          "name": "stdout",
          "output_type": "stream",
          "text": [
            "tensor([7], device='cuda:0')\n"
          ]
        }
      ],
      "source": [
        "model.eval()\n",
        "image = Image.open('flob.jpg')\n",
        "  \n",
        "# Define a transform to convert PIL \n",
        "# image to a Torch tensor\n",
        "transform = Compose([\n",
        "    ToTensor()\n",
        "])\n",
        "  \n",
        "# transform = transforms.PILToTensor()\n",
        "# Convert the PIL image to Torch tensor\n",
        "\n",
        "img_tensor = transform(image)\n",
        "\n",
        "inputs = img_tensor.to(device)\n",
        "\n",
        "with torch.no_grad():\n",
        "    outputs = model(inputs.unsqueeze(0))\n",
        "    _, predicted = torch.max(outputs.data, 1)\n",
        "    \n",
        "    print(predicted)"
      ]
    },
    {
      "cell_type": "code",
      "execution_count": 24,
      "metadata": {
        "colab": {
          "base_uri": "https://localhost:8080/",
          "height": 35
        },
        "id": "U5se6AVbXFlf",
        "outputId": "6f0fa4e9-d182-4bb1-9b24-16e7be75d74c"
      },
      "outputs": [
        {
          "data": {
            "application/vnd.google.colaboratory.intrinsic+json": {
              "type": "string"
            },
            "text/plain": [
              "'Minecraft'"
            ]
          },
          "execution_count": 24,
          "metadata": {},
          "output_type": "execute_result"
        }
      ],
      "source": [
        "dataset[\"train\"].features[\"label\"].names[predicted]"
      ]
    }
  ],
  "metadata": {
    "accelerator": "GPU",
    "colab": {
      "gpuType": "T4",
      "provenance": []
    },
    "gpuClass": "standard",
    "kernelspec": {
      "display_name": "Python 3",
      "language": "python",
      "name": "python3"
    },
    "language_info": {
      "codemirror_mode": {
        "name": "ipython",
        "version": 3
      },
      "file_extension": ".py",
      "mimetype": "text/x-python",
      "name": "python",
      "nbconvert_exporter": "python",
      "pygments_lexer": "ipython3",
      "version": "3.7.12"
    },
    "widgets": {
      "application/vnd.jupyter.widget-state+json": {
        "3f7b7d80702f431ea0a6d68110f67595": {
          "model_module": "@jupyter-widgets/controls",
          "model_module_version": "1.5.0",
          "model_name": "DescriptionStyleModel",
          "state": {
            "_model_module": "@jupyter-widgets/controls",
            "_model_module_version": "1.5.0",
            "_model_name": "DescriptionStyleModel",
            "_view_count": null,
            "_view_module": "@jupyter-widgets/base",
            "_view_module_version": "1.2.0",
            "_view_name": "StyleView",
            "description_width": ""
          }
        },
        "54d67f51cc4c432eb354bf946f341e2e": {
          "model_module": "@jupyter-widgets/base",
          "model_module_version": "1.2.0",
          "model_name": "LayoutModel",
          "state": {
            "_model_module": "@jupyter-widgets/base",
            "_model_module_version": "1.2.0",
            "_model_name": "LayoutModel",
            "_view_count": null,
            "_view_module": "@jupyter-widgets/base",
            "_view_module_version": "1.2.0",
            "_view_name": "LayoutView",
            "align_content": null,
            "align_items": null,
            "align_self": null,
            "border": null,
            "bottom": null,
            "display": null,
            "flex": null,
            "flex_flow": null,
            "grid_area": null,
            "grid_auto_columns": null,
            "grid_auto_flow": null,
            "grid_auto_rows": null,
            "grid_column": null,
            "grid_gap": null,
            "grid_row": null,
            "grid_template_areas": null,
            "grid_template_columns": null,
            "grid_template_rows": null,
            "height": null,
            "justify_content": null,
            "justify_items": null,
            "left": null,
            "margin": null,
            "max_height": null,
            "max_width": null,
            "min_height": null,
            "min_width": null,
            "object_fit": null,
            "object_position": null,
            "order": null,
            "overflow": null,
            "overflow_x": null,
            "overflow_y": null,
            "padding": null,
            "right": null,
            "top": null,
            "visibility": null,
            "width": null
          }
        },
        "55d308d6510b47baa09a642b3dcb456c": {
          "model_module": "@jupyter-widgets/base",
          "model_module_version": "1.2.0",
          "model_name": "LayoutModel",
          "state": {
            "_model_module": "@jupyter-widgets/base",
            "_model_module_version": "1.2.0",
            "_model_name": "LayoutModel",
            "_view_count": null,
            "_view_module": "@jupyter-widgets/base",
            "_view_module_version": "1.2.0",
            "_view_name": "LayoutView",
            "align_content": null,
            "align_items": null,
            "align_self": null,
            "border": null,
            "bottom": null,
            "display": null,
            "flex": null,
            "flex_flow": null,
            "grid_area": null,
            "grid_auto_columns": null,
            "grid_auto_flow": null,
            "grid_auto_rows": null,
            "grid_column": null,
            "grid_gap": null,
            "grid_row": null,
            "grid_template_areas": null,
            "grid_template_columns": null,
            "grid_template_rows": null,
            "height": null,
            "justify_content": null,
            "justify_items": null,
            "left": null,
            "margin": null,
            "max_height": null,
            "max_width": null,
            "min_height": null,
            "min_width": null,
            "object_fit": null,
            "object_position": null,
            "order": null,
            "overflow": null,
            "overflow_x": null,
            "overflow_y": null,
            "padding": null,
            "right": null,
            "top": null,
            "visibility": null,
            "width": null
          }
        },
        "5dbaeed63fe94962a9d62b86ccf9e852": {
          "model_module": "@jupyter-widgets/controls",
          "model_module_version": "1.5.0",
          "model_name": "HTMLModel",
          "state": {
            "_dom_classes": [],
            "_model_module": "@jupyter-widgets/controls",
            "_model_module_version": "1.5.0",
            "_model_name": "HTMLModel",
            "_view_count": null,
            "_view_module": "@jupyter-widgets/controls",
            "_view_module_version": "1.5.0",
            "_view_name": "HTMLView",
            "description": "",
            "description_tooltip": null,
            "layout": "IPY_MODEL_55d308d6510b47baa09a642b3dcb456c",
            "placeholder": "​",
            "style": "IPY_MODEL_3f7b7d80702f431ea0a6d68110f67595",
            "value": "100%"
          }
        },
        "78fba33a98a142edb4cd425b64c1c77a": {
          "model_module": "@jupyter-widgets/controls",
          "model_module_version": "1.5.0",
          "model_name": "ProgressStyleModel",
          "state": {
            "_model_module": "@jupyter-widgets/controls",
            "_model_module_version": "1.5.0",
            "_model_name": "ProgressStyleModel",
            "_view_count": null,
            "_view_module": "@jupyter-widgets/base",
            "_view_module_version": "1.2.0",
            "_view_name": "StyleView",
            "bar_color": null,
            "description_width": ""
          }
        },
        "8ab3f1284a4143f0b7162bac10848480": {
          "model_module": "@jupyter-widgets/controls",
          "model_module_version": "1.5.0",
          "model_name": "HBoxModel",
          "state": {
            "_dom_classes": [],
            "_model_module": "@jupyter-widgets/controls",
            "_model_module_version": "1.5.0",
            "_model_name": "HBoxModel",
            "_view_count": null,
            "_view_module": "@jupyter-widgets/controls",
            "_view_module_version": "1.5.0",
            "_view_name": "HBoxView",
            "box_style": "",
            "children": [
              "IPY_MODEL_5dbaeed63fe94962a9d62b86ccf9e852",
              "IPY_MODEL_9a865e03d2264f99b07065a297e7836f",
              "IPY_MODEL_e2e437182a0347548be0224880de6ef1"
            ],
            "layout": "IPY_MODEL_c9eb827f1d0b49a799f1f98b6dfe1899"
          }
        },
        "93ec292cf20d4547a465e2c160f61c4c": {
          "model_module": "@jupyter-widgets/base",
          "model_module_version": "1.2.0",
          "model_name": "LayoutModel",
          "state": {
            "_model_module": "@jupyter-widgets/base",
            "_model_module_version": "1.2.0",
            "_model_name": "LayoutModel",
            "_view_count": null,
            "_view_module": "@jupyter-widgets/base",
            "_view_module_version": "1.2.0",
            "_view_name": "LayoutView",
            "align_content": null,
            "align_items": null,
            "align_self": null,
            "border": null,
            "bottom": null,
            "display": null,
            "flex": null,
            "flex_flow": null,
            "grid_area": null,
            "grid_auto_columns": null,
            "grid_auto_flow": null,
            "grid_auto_rows": null,
            "grid_column": null,
            "grid_gap": null,
            "grid_row": null,
            "grid_template_areas": null,
            "grid_template_columns": null,
            "grid_template_rows": null,
            "height": null,
            "justify_content": null,
            "justify_items": null,
            "left": null,
            "margin": null,
            "max_height": null,
            "max_width": null,
            "min_height": null,
            "min_width": null,
            "object_fit": null,
            "object_position": null,
            "order": null,
            "overflow": null,
            "overflow_x": null,
            "overflow_y": null,
            "padding": null,
            "right": null,
            "top": null,
            "visibility": null,
            "width": null
          }
        },
        "9a865e03d2264f99b07065a297e7836f": {
          "model_module": "@jupyter-widgets/controls",
          "model_module_version": "1.5.0",
          "model_name": "FloatProgressModel",
          "state": {
            "_dom_classes": [],
            "_model_module": "@jupyter-widgets/controls",
            "_model_module_version": "1.5.0",
            "_model_name": "FloatProgressModel",
            "_view_count": null,
            "_view_module": "@jupyter-widgets/controls",
            "_view_module_version": "1.5.0",
            "_view_name": "ProgressView",
            "bar_style": "success",
            "description": "",
            "description_tooltip": null,
            "layout": "IPY_MODEL_54d67f51cc4c432eb354bf946f341e2e",
            "max": 1,
            "min": 0,
            "orientation": "horizontal",
            "style": "IPY_MODEL_78fba33a98a142edb4cd425b64c1c77a",
            "value": 1
          }
        },
        "c9eb827f1d0b49a799f1f98b6dfe1899": {
          "model_module": "@jupyter-widgets/base",
          "model_module_version": "1.2.0",
          "model_name": "LayoutModel",
          "state": {
            "_model_module": "@jupyter-widgets/base",
            "_model_module_version": "1.2.0",
            "_model_name": "LayoutModel",
            "_view_count": null,
            "_view_module": "@jupyter-widgets/base",
            "_view_module_version": "1.2.0",
            "_view_name": "LayoutView",
            "align_content": null,
            "align_items": null,
            "align_self": null,
            "border": null,
            "bottom": null,
            "display": null,
            "flex": null,
            "flex_flow": null,
            "grid_area": null,
            "grid_auto_columns": null,
            "grid_auto_flow": null,
            "grid_auto_rows": null,
            "grid_column": null,
            "grid_gap": null,
            "grid_row": null,
            "grid_template_areas": null,
            "grid_template_columns": null,
            "grid_template_rows": null,
            "height": null,
            "justify_content": null,
            "justify_items": null,
            "left": null,
            "margin": null,
            "max_height": null,
            "max_width": null,
            "min_height": null,
            "min_width": null,
            "object_fit": null,
            "object_position": null,
            "order": null,
            "overflow": null,
            "overflow_x": null,
            "overflow_y": null,
            "padding": null,
            "right": null,
            "top": null,
            "visibility": null,
            "width": null
          }
        },
        "e2e437182a0347548be0224880de6ef1": {
          "model_module": "@jupyter-widgets/controls",
          "model_module_version": "1.5.0",
          "model_name": "HTMLModel",
          "state": {
            "_dom_classes": [],
            "_model_module": "@jupyter-widgets/controls",
            "_model_module_version": "1.5.0",
            "_model_name": "HTMLModel",
            "_view_count": null,
            "_view_module": "@jupyter-widgets/controls",
            "_view_module_version": "1.5.0",
            "_view_name": "HTMLView",
            "description": "",
            "description_tooltip": null,
            "layout": "IPY_MODEL_93ec292cf20d4547a465e2c160f61c4c",
            "placeholder": "​",
            "style": "IPY_MODEL_e93172aecf0e4f308fc6cfcebd846089",
            "value": " 1/1 [00:00&lt;00:00, 32.88it/s]"
          }
        },
        "e93172aecf0e4f308fc6cfcebd846089": {
          "model_module": "@jupyter-widgets/controls",
          "model_module_version": "1.5.0",
          "model_name": "DescriptionStyleModel",
          "state": {
            "_model_module": "@jupyter-widgets/controls",
            "_model_module_version": "1.5.0",
            "_model_name": "DescriptionStyleModel",
            "_view_count": null,
            "_view_module": "@jupyter-widgets/base",
            "_view_module_version": "1.2.0",
            "_view_name": "StyleView",
            "description_width": ""
          }
        }
      }
    }
  },
  "nbformat": 4,
  "nbformat_minor": 0
}
