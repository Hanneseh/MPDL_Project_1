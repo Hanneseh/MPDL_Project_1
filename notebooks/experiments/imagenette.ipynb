{
  "cells": [
    {
      "cell_type": "code",
      "execution_count": 1,
      "metadata": {
        "colab": {
          "base_uri": "https://localhost:8080/"
        },
        "id": "8wkMV9Dd6znu",
        "outputId": "85dc2614-eac8-4ac3-cc07-e31ff2e00afa"
      },
      "outputs": [
        {
          "name": "stdout",
          "output_type": "stream",
          "text": [
            "Collecting datasets\n",
            "  Downloading datasets-2.11.0-py3-none-any.whl (468 kB)\n",
            "\u001b[2K     \u001b[90m━━━━━━━━━━━━━━━━━━━━━━━━━━━━━━━━━━━━━━━\u001b[0m \u001b[32m468.7/468.7 kB\u001b[0m \u001b[31m6.2 MB/s\u001b[0m eta \u001b[36m0:00:00\u001b[0m00:01\u001b[0m00:01\u001b[0m\n",
            "\u001b[?25hRequirement already satisfied: numpy>=1.17 in /home/hakim/anaconda3/envs/py38/lib/python3.8/site-packages (from datasets) (1.23.5)\n",
            "Collecting dill<0.3.7,>=0.3.0\n",
            "  Downloading dill-0.3.6-py3-none-any.whl (110 kB)\n",
            "\u001b[2K     \u001b[90m━━━━━━━━━━━━━━━━━━━━━━━━━━━━━━━━━━━━━━━\u001b[0m \u001b[32m110.5/110.5 kB\u001b[0m \u001b[31m7.2 MB/s\u001b[0m eta \u001b[36m0:00:00\u001b[0m\n",
            "\u001b[?25hCollecting multiprocess\n",
            "  Downloading multiprocess-0.70.14-py38-none-any.whl (132 kB)\n",
            "\u001b[2K     \u001b[90m━━━━━━━━━━━━━━━━━━━━━━━━━━━━━━━━━━━━━━━\u001b[0m \u001b[32m132.0/132.0 kB\u001b[0m \u001b[31m6.0 MB/s\u001b[0m eta \u001b[36m0:00:00\u001b[0m\n",
            "\u001b[?25hRequirement already satisfied: packaging in /home/hakim/.local/lib/python3.8/site-packages (from datasets) (21.3)\n",
            "Requirement already satisfied: pandas in /home/hakim/.local/lib/python3.8/site-packages (from datasets) (1.4.3)\n",
            "Requirement already satisfied: requests>=2.19.0 in /home/hakim/anaconda3/envs/py38/lib/python3.8/site-packages (from datasets) (2.28.1)\n",
            "Collecting xxhash\n",
            "  Downloading xxhash-3.2.0-cp38-cp38-manylinux_2_17_x86_64.manylinux2014_x86_64.whl (213 kB)\n",
            "\u001b[2K     \u001b[90m━━━━━━━━━━━━━━━━━━━━━━━━━━━━━━━━━━━━━━━\u001b[0m \u001b[32m213.0/213.0 kB\u001b[0m \u001b[31m6.6 MB/s\u001b[0m eta \u001b[36m0:00:00\u001b[0m\n",
            "\u001b[?25hCollecting fsspec[http]>=2021.11.1\n",
            "  Downloading fsspec-2023.4.0-py3-none-any.whl (153 kB)\n",
            "\u001b[2K     \u001b[90m━━━━━━━━━━━━━━━━━━━━━━━━━━━━━━━━━━━━━━━\u001b[0m \u001b[32m154.0/154.0 kB\u001b[0m \u001b[31m9.1 MB/s\u001b[0m eta \u001b[36m0:00:00\u001b[0m\n",
            "\u001b[?25hCollecting aiohttp\n",
            "  Downloading aiohttp-3.8.4-cp38-cp38-manylinux_2_17_x86_64.manylinux2014_x86_64.whl (1.0 MB)\n",
            "\u001b[2K     \u001b[90m━━━━━━━━━━━━━━━━━━━━━━━━━━━━━━━━━━━━━━━━\u001b[0m \u001b[32m1.0/1.0 MB\u001b[0m \u001b[31m6.6 MB/s\u001b[0m eta \u001b[36m0:00:00\u001b[0m00:01\u001b[0m00:01\u001b[0m\n",
            "\u001b[?25hCollecting huggingface-hub<1.0.0,>=0.11.0\n",
            "  Downloading huggingface_hub-0.13.4-py3-none-any.whl (200 kB)\n",
            "\u001b[2K     \u001b[90m━━━━━━━━━━━━━━━━━━━━━━━━━━━━━━━━━━━━━━━\u001b[0m \u001b[32m200.1/200.1 kB\u001b[0m \u001b[31m7.2 MB/s\u001b[0m eta \u001b[36m0:00:00\u001b[0m\n",
            "\u001b[?25hCollecting pyyaml>=5.1\n",
            "  Using cached PyYAML-6.0-cp38-cp38-manylinux_2_5_x86_64.manylinux1_x86_64.manylinux_2_12_x86_64.manylinux2010_x86_64.whl (701 kB)\n",
            "Collecting responses<0.19\n",
            "  Downloading responses-0.18.0-py3-none-any.whl (38 kB)\n",
            "Requirement already satisfied: tqdm>=4.62.1 in /home/hakim/anaconda3/envs/py38/lib/python3.8/site-packages (from datasets) (4.65.0)\n",
            "Collecting pyarrow>=8.0.0\n",
            "  Downloading pyarrow-11.0.0-cp38-cp38-manylinux_2_17_x86_64.manylinux2014_x86_64.whl (35.0 MB)\n",
            "\u001b[2K     \u001b[90m━━━━━━━━━━━━━━━━━━━━━━━━━━━━━━━━━━━━━━━━\u001b[0m \u001b[32m35.0/35.0 MB\u001b[0m \u001b[31m6.3 MB/s\u001b[0m eta \u001b[36m0:00:00\u001b[0m00:01\u001b[0m00:01\u001b[0m\n",
            "\u001b[?25hCollecting attrs>=17.3.0\n",
            "  Downloading attrs-23.1.0-py3-none-any.whl (61 kB)\n",
            "\u001b[2K     \u001b[90m━━━━━━━━━━━━━━━━━━━━━━━━━━━━━━━━━━━━━━━━\u001b[0m \u001b[32m61.2/61.2 kB\u001b[0m \u001b[31m10.9 MB/s\u001b[0m eta \u001b[36m0:00:00\u001b[0m\n",
            "\u001b[?25hCollecting yarl<2.0,>=1.0\n",
            "  Downloading yarl-1.8.2-cp38-cp38-manylinux_2_17_x86_64.manylinux2014_x86_64.whl (262 kB)\n",
            "\u001b[2K     \u001b[90m━━━━━━━━━━━━━━━━━━━━━━━━━━━━━━━━━━━━━━━\u001b[0m \u001b[32m262.1/262.1 kB\u001b[0m \u001b[31m6.0 MB/s\u001b[0m eta \u001b[36m0:00:00\u001b[0m00:01\u001b[0m\n",
            "\u001b[?25hCollecting multidict<7.0,>=4.5\n",
            "  Downloading multidict-6.0.4-cp38-cp38-manylinux_2_17_x86_64.manylinux2014_x86_64.whl (121 kB)\n",
            "\u001b[2K     \u001b[90m━━━━━━━━━━━━━━━━━━━━━━━━━━━━━━━━━━━━━━━\u001b[0m \u001b[32m121.3/121.3 kB\u001b[0m \u001b[31m7.0 MB/s\u001b[0m eta \u001b[36m0:00:00\u001b[0m\n",
            "\u001b[?25hRequirement already satisfied: charset-normalizer<4.0,>=2.0 in /home/hakim/anaconda3/envs/py38/lib/python3.8/site-packages (from aiohttp->datasets) (2.0.4)\n",
            "Collecting frozenlist>=1.1.1\n",
            "  Downloading frozenlist-1.3.3-cp38-cp38-manylinux_2_5_x86_64.manylinux1_x86_64.manylinux_2_17_x86_64.manylinux2014_x86_64.whl (161 kB)\n",
            "\u001b[2K     \u001b[90m━━━━━━━━━━━━━━━━━━━━━━━━━━━━━━━━━━━━━━━\u001b[0m \u001b[32m161.3/161.3 kB\u001b[0m \u001b[31m8.7 MB/s\u001b[0m eta \u001b[36m0:00:00\u001b[0m\n",
            "\u001b[?25hCollecting async-timeout<5.0,>=4.0.0a3\n",
            "  Downloading async_timeout-4.0.2-py3-none-any.whl (5.8 kB)\n",
            "Collecting aiosignal>=1.1.2\n",
            "  Downloading aiosignal-1.3.1-py3-none-any.whl (7.6 kB)\n",
            "Requirement already satisfied: typing-extensions>=3.7.4.3 in /home/hakim/.local/lib/python3.8/site-packages (from huggingface-hub<1.0.0,>=0.11.0->datasets) (4.3.0)\n",
            "Requirement already satisfied: filelock in /home/hakim/anaconda3/envs/py38/lib/python3.8/site-packages (from huggingface-hub<1.0.0,>=0.11.0->datasets) (3.9.0)\n",
            "Requirement already satisfied: pyparsing!=3.0.5,>=2.0.2 in /home/hakim/.local/lib/python3.8/site-packages (from packaging->datasets) (3.0.8)\n",
            "Requirement already satisfied: idna<4,>=2.5 in /home/hakim/anaconda3/envs/py38/lib/python3.8/site-packages (from requests>=2.19.0->datasets) (3.4)\n",
            "Requirement already satisfied: urllib3<1.27,>=1.21.1 in /home/hakim/anaconda3/envs/py38/lib/python3.8/site-packages (from requests>=2.19.0->datasets) (1.26.15)\n",
            "Requirement already satisfied: certifi>=2017.4.17 in /home/hakim/anaconda3/envs/py38/lib/python3.8/site-packages (from requests>=2.19.0->datasets) (2022.12.7)\n",
            "Requirement already satisfied: python-dateutil>=2.8.1 in /home/hakim/.local/lib/python3.8/site-packages (from pandas->datasets) (2.8.2)\n",
            "Collecting pytz>=2020.1\n",
            "  Downloading pytz-2023.3-py2.py3-none-any.whl (502 kB)\n",
            "\u001b[2K     \u001b[90m━━━━━━━━━━━━━━━━━━━━━━━━━━━━━━━━━━━━━━━\u001b[0m \u001b[32m502.3/502.3 kB\u001b[0m \u001b[31m6.7 MB/s\u001b[0m eta \u001b[36m0:00:00\u001b[0m00:01\u001b[0m00:01\u001b[0m\n",
            "\u001b[?25hRequirement already satisfied: six>=1.5 in /home/hakim/anaconda3/envs/py38/lib/python3.8/site-packages (from python-dateutil>=2.8.1->pandas->datasets) (1.16.0)\n",
            "Installing collected packages: pytz, xxhash, pyyaml, pyarrow, multidict, fsspec, frozenlist, dill, attrs, async-timeout, yarl, responses, multiprocess, huggingface-hub, aiosignal, aiohttp, datasets\n",
            "Successfully installed aiohttp-3.8.4 aiosignal-1.3.1 async-timeout-4.0.2 attrs-23.1.0 datasets-2.11.0 dill-0.3.6 frozenlist-1.3.3 fsspec-2023.4.0 huggingface-hub-0.13.4 multidict-6.0.4 multiprocess-0.70.14 pyarrow-11.0.0 pytz-2023.3 pyyaml-6.0 responses-0.18.0 xxhash-3.2.0 yarl-1.8.2\n",
            "Note: you may need to restart the kernel to use updated packages.\n"
          ]
        }
      ],
      "source": [
        "pip install datasets"
      ]
    },
    {
      "cell_type": "code",
      "execution_count": 2,
      "metadata": {
        "colab": {
          "base_uri": "https://localhost:8080/"
        },
        "id": "67UMquIX7kGC",
        "outputId": "b8c5ed94-76a9-437a-bf84-cfa3355d915e"
      },
      "outputs": [
        {
          "name": "stdout",
          "output_type": "stream",
          "text": [
            "Collecting transformers\n",
            "  Downloading transformers-4.28.1-py3-none-any.whl (7.0 MB)\n",
            "\u001b[2K     \u001b[90m━━━━━━━━━━━━━━━━━━━━━━━━━━━━━━━━━━━━━━━━\u001b[0m \u001b[32m7.0/7.0 MB\u001b[0m \u001b[31m6.6 MB/s\u001b[0m eta \u001b[36m0:00:00\u001b[0m00:01\u001b[0m00:01\u001b[0m\n",
            "\u001b[?25hCollecting regex!=2019.12.17\n",
            "  Downloading regex-2023.3.23-cp38-cp38-manylinux_2_17_x86_64.manylinux2014_x86_64.whl (771 kB)\n",
            "\u001b[2K     \u001b[90m━━━━━━━━━━━━━━━━━━━━━━━━━━━━━━━━━━━━━━━\u001b[0m \u001b[32m771.9/771.9 kB\u001b[0m \u001b[31m7.1 MB/s\u001b[0m eta \u001b[36m0:00:00\u001b[0ma \u001b[36m0:00:01\u001b[0m\n",
            "\u001b[?25hRequirement already satisfied: pyyaml>=5.1 in /home/hakim/anaconda3/envs/py38/lib/python3.8/site-packages (from transformers) (6.0)\n",
            "Collecting tokenizers!=0.11.3,<0.14,>=0.11.1\n",
            "  Downloading tokenizers-0.13.3-cp38-cp38-manylinux_2_17_x86_64.manylinux2014_x86_64.whl (7.8 MB)\n",
            "\u001b[2K     \u001b[90m━━━━━━━━━━━━━━━━━━━━━━━━━━━━━━━━━━━━━━━━\u001b[0m \u001b[32m7.8/7.8 MB\u001b[0m \u001b[31m6.6 MB/s\u001b[0m eta \u001b[36m0:00:00\u001b[0m00:01\u001b[0m00:01\u001b[0m\n",
            "\u001b[?25hRequirement already satisfied: numpy>=1.17 in /home/hakim/anaconda3/envs/py38/lib/python3.8/site-packages (from transformers) (1.23.5)\n",
            "Requirement already satisfied: filelock in /home/hakim/anaconda3/envs/py38/lib/python3.8/site-packages (from transformers) (3.9.0)\n",
            "Requirement already satisfied: packaging>=20.0 in /home/hakim/.local/lib/python3.8/site-packages (from transformers) (21.3)\n",
            "Requirement already satisfied: huggingface-hub<1.0,>=0.11.0 in /home/hakim/anaconda3/envs/py38/lib/python3.8/site-packages (from transformers) (0.13.4)\n",
            "Requirement already satisfied: requests in /home/hakim/anaconda3/envs/py38/lib/python3.8/site-packages (from transformers) (2.28.1)\n",
            "Requirement already satisfied: tqdm>=4.27 in /home/hakim/anaconda3/envs/py38/lib/python3.8/site-packages (from transformers) (4.65.0)\n",
            "Requirement already satisfied: typing-extensions>=3.7.4.3 in /home/hakim/.local/lib/python3.8/site-packages (from huggingface-hub<1.0,>=0.11.0->transformers) (4.3.0)\n",
            "Requirement already satisfied: pyparsing!=3.0.5,>=2.0.2 in /home/hakim/.local/lib/python3.8/site-packages (from packaging>=20.0->transformers) (3.0.8)\n",
            "Requirement already satisfied: certifi>=2017.4.17 in /home/hakim/anaconda3/envs/py38/lib/python3.8/site-packages (from requests->transformers) (2022.12.7)\n",
            "Requirement already satisfied: urllib3<1.27,>=1.21.1 in /home/hakim/anaconda3/envs/py38/lib/python3.8/site-packages (from requests->transformers) (1.26.15)\n",
            "Requirement already satisfied: idna<4,>=2.5 in /home/hakim/anaconda3/envs/py38/lib/python3.8/site-packages (from requests->transformers) (3.4)\n",
            "Requirement already satisfied: charset-normalizer<3,>=2 in /home/hakim/anaconda3/envs/py38/lib/python3.8/site-packages (from requests->transformers) (2.0.4)\n",
            "Installing collected packages: tokenizers, regex, transformers\n",
            "Successfully installed regex-2023.3.23 tokenizers-0.13.3 transformers-4.28.1\n",
            "Note: you may need to restart the kernel to use updated packages.\n"
          ]
        }
      ],
      "source": [
        "pip install transformers"
      ]
    },
    {
      "cell_type": "code",
      "execution_count": null,
      "metadata": {
        "_cell_guid": "b1076dfc-b9ad-4769-8c92-a6c4dae69d19",
        "_uuid": "8f2839f25d086af736a60e9eeb907d3b93b6e0e5",
        "collapsed": true,
        "execution": {
          "iopub.execute_input": "2023-04-17T19:22:03.675041Z",
          "iopub.status.busy": "2023-04-17T19:22:03.674769Z",
          "iopub.status.idle": "2023-04-17T19:24:32.961316Z",
          "shell.execute_reply": "2023-04-17T19:24:32.960221Z",
          "shell.execute_reply.started": "2023-04-17T19:22:03.675015Z"
        },
        "id": "mVRKvY7ZwCPn",
        "jupyter": {
          "outputs_hidden": true
        },
        "trusted": true
      },
      "outputs": [],
      "source": [
        "from transformers import AutoTokenizer\n",
        "import torch\n",
        "import torchvision\n",
        "import torchvision.transforms as transforms\n",
        "from torchvision.transforms import Compose, ColorJitter, ToTensor, Resize\n",
        "from torchvision.models import ResNet50_Weights\n",
        "from torch.utils.data import DataLoader\n",
        "from tqdm import tqdm\n",
        "from time import sleep\n",
        "from PIL import ImageFile\n",
        "ImageFile.LOAD_TRUNCATED_IMAGES = True"
      ]
    },
    {
      "cell_type": "code",
      "execution_count": 4,
      "metadata": {
        "colab": {
          "base_uri": "https://localhost:8080/",
          "height": 86,
          "referenced_widgets": [
            "f9c8b4a56ead46b183ee31ef830516dc",
            "e3efb85b0c89446680c1c4881aca5134",
            "86c9a00e1e4f402a924550f10b228c83",
            "b69b9f3904da419e841fdb9dd584364d",
            "8d19516355ff43d299757b4296c0e884",
            "8d91a7c703884b54bb9435dd9a092b68",
            "514631365a9041eab66c911c981230a4",
            "36c0d6bd5f3b413db9ef0b6682be9398",
            "d9a1347502554a0e8211669496da376f",
            "4792ac96efed4b0e93c05741102d9bb8",
            "99c3462b3b1d4113911cdb0fda899f3d"
          ]
        },
        "id": "Sy8O_avJ6OyQ",
        "outputId": "811ca921-b978-45af-9113-2be8c3df3968"
      },
      "outputs": [
        {
          "name": "stderr",
          "output_type": "stream",
          "text": [
            "Downloading builder script: 100%|██████████| 5.31k/5.31k [00:00<00:00, 1.62MB/s]\n",
            "Downloading metadata: 100%|██████████| 7.25k/7.25k [00:00<00:00, 1.93MB/s]\n",
            "Downloading readme: 100%|██████████| 4.63k/4.63k [00:00<00:00, 1.37MB/s]\n"
          ]
        },
        {
          "name": "stdout",
          "output_type": "stream",
          "text": [
            "Downloading and preparing dataset imagenette/160px (download: 95.08 MiB, generated: 129.48 MiB, post-processed: Unknown size, total: 129.48 MiB) to /home/hakim/.cache/huggingface/datasets/frgfm___imagenette/160px/1.0.0/38929285b8abcae5c1305418e9d8fea5dd6b189bbbd22caba5f5537c7fa0f01f...\n"
          ]
        },
        {
          "name": "stderr",
          "output_type": "stream",
          "text": [
            "Downloading data: 100%|██████████| 99.0M/99.0M [00:15<00:00, 6.44MB/s]\n",
            "Downloading data: 100%|██████████| 500k/500k [00:00<00:00, 2.59MB/s]\n",
            "Downloading data: 100%|██████████| 199k/199k [00:00<00:00, 2.31MB/s]]\n",
            "Downloading data files: 100%|██████████| 2/2 [00:00<00:00,  2.18it/s]\n",
            "                                                                                         \r"
          ]
        },
        {
          "name": "stdout",
          "output_type": "stream",
          "text": [
            "Dataset imagenette downloaded and prepared to /home/hakim/.cache/huggingface/datasets/frgfm___imagenette/160px/1.0.0/38929285b8abcae5c1305418e9d8fea5dd6b189bbbd22caba5f5537c7fa0f01f. Subsequent calls will reuse this data.\n"
          ]
        },
        {
          "name": "stderr",
          "output_type": "stream",
          "text": [
            "100%|██████████| 2/2 [00:00<00:00, 992.97it/s]\n"
          ]
        }
      ],
      "source": [
        "from datasets import load_dataset\n",
        "\n",
        "dataset = load_dataset(\"frgfm/imagenette\",\"160px\")"
      ]
    },
    {
      "cell_type": "code",
      "execution_count": 5,
      "metadata": {
        "id": "d3gG_1TzClYW"
      },
      "outputs": [],
      "source": [
        "jitter = Compose(\n",
        "    [ ToTensor(),Resize((160,160))]\n",
        ")"
      ]
    },
    {
      "cell_type": "code",
      "execution_count": 6,
      "metadata": {
        "id": "3mxw3SkjCoe7"
      },
      "outputs": [],
      "source": [
        "def transforms(examples):\n",
        "\n",
        "    examples[\"pixel_values\"] = [jitter(image.convert(\"RGB\")) for image in examples[\"image\"]]\n",
        "\n",
        "    return examples"
      ]
    },
    {
      "cell_type": "code",
      "execution_count": 7,
      "metadata": {
        "id": "kKlHJgJ5CzvG"
      },
      "outputs": [],
      "source": [
        "dataset = dataset.with_transform(transforms)"
      ]
    },
    {
      "cell_type": "code",
      "execution_count": 8,
      "metadata": {
        "execution": {
          "iopub.execute_input": "2023-04-17T19:24:32.963952Z",
          "iopub.status.busy": "2023-04-17T19:24:32.963019Z",
          "iopub.status.idle": "2023-04-17T19:24:33.075268Z",
          "shell.execute_reply": "2023-04-17T19:24:33.073884Z",
          "shell.execute_reply.started": "2023-04-17T19:24:32.963909Z"
        },
        "id": "iJDFiq33wCPz",
        "trusted": true
      },
      "outputs": [],
      "source": [
        "# Set device\n",
        "device = torch.device(\"cuda\" if torch.cuda.is_available() else \"cpu\")\n",
        "\n",
        "# Set hyperparameters\n",
        "num_epochs = 10\n",
        "batch_size = 64\n",
        "learning_rate = 0.001"
      ]
    },
    {
      "cell_type": "code",
      "execution_count": 9,
      "metadata": {
        "id": "wEHA_t-4C3Zl"
      },
      "outputs": [],
      "source": [
        "def collate_fn(examples):\n",
        "\n",
        "    images = []\n",
        "\n",
        "    labels = []\n",
        "\n",
        "    for example in examples:\n",
        "\n",
        "        images.append((example[\"pixel_values\"]))\n",
        "\n",
        "        labels.append(example[\"label\"])\n",
        "\n",
        "        \n",
        "\n",
        "    pixel_values = torch.stack(images)\n",
        "\n",
        "    labels = torch.tensor(labels)\n",
        "\n",
        "    return {\"pixel_values\": pixel_values, \"label\": labels}\n",
        "\n",
        "train_dataloader = DataLoader(dataset[\"train\"], collate_fn=collate_fn, batch_size=batch_size)\n",
        "val_dataloader =  DataLoader(dataset[\"validation\"], collate_fn=collate_fn, batch_size=batch_size)"
      ]
    },
    {
      "cell_type": "code",
      "execution_count": 10,
      "metadata": {
        "execution": {
          "iopub.status.busy": "2023-04-17T18:02:12.490371Z",
          "iopub.status.idle": "2023-04-17T18:02:12.491196Z",
          "shell.execute_reply": "2023-04-17T18:02:12.490964Z",
          "shell.execute_reply.started": "2023-04-17T18:02:12.490938Z"
        },
        "id": "NE3OFkQqwCP7",
        "trusted": true
      },
      "outputs": [],
      "source": [
        "model = torchvision.models.resnet50(weights=ResNet50_Weights.IMAGENET1K_V2)"
      ]
    },
    {
      "cell_type": "code",
      "execution_count": 11,
      "metadata": {
        "execution": {
          "iopub.status.busy": "2023-04-17T18:02:12.492656Z",
          "iopub.status.idle": "2023-04-17T18:02:12.493488Z",
          "shell.execute_reply": "2023-04-17T18:02:12.493257Z",
          "shell.execute_reply.started": "2023-04-17T18:02:12.493230Z"
        },
        "id": "5-TLZDWWwCP8",
        "trusted": true
      },
      "outputs": [],
      "source": [
        "model = model.to(device)\n",
        "\n",
        "# Define the loss function and optimizer\n",
        "criterion = torch.nn.CrossEntropyLoss()\n",
        "optimizer = torch.optim.Adam(model.parameters(), lr=learning_rate)"
      ]
    },
    {
      "cell_type": "code",
      "execution_count": 12,
      "metadata": {
        "execution": {
          "iopub.status.busy": "2023-04-17T18:02:12.494968Z",
          "iopub.status.idle": "2023-04-17T18:02:12.495787Z",
          "shell.execute_reply": "2023-04-17T18:02:12.495516Z",
          "shell.execute_reply.started": "2023-04-17T18:02:12.495489Z"
        },
        "id": "CMDF27Z1wCP8",
        "trusted": true
      },
      "outputs": [],
      "source": [
        "tr = model.train()"
      ]
    },
    {
      "cell_type": "code",
      "execution_count": 13,
      "metadata": {
        "id": "MtjNguEzQh_N"
      },
      "outputs": [],
      "source": [
        "train_accu = []\n",
        "train_losses = []\n",
        "\n",
        "def train(epoch,data):\n",
        "    print('\\nEpoch : %d'%epoch)\n",
        "    correct = 0\n",
        "    running_loss=0\n",
        "    total=0\n",
        "    for element in data:\n",
        "        # Move input and label tensors to the device\n",
        "        inputs = element[\"pixel_values\"].to(device)\n",
        "        labels = element[\"label\"].to(device)\n",
        "\n",
        "        # Zero out the optimizer\n",
        "        optimizer.zero_grad()\n",
        "\n",
        "        # Forward pass\n",
        "        outputs = model(inputs)\n",
        "        loss = criterion(outputs, labels)\n",
        "\n",
        "        # Backward pass\n",
        "        loss.backward()\n",
        "        optimizer.step()\n",
        "        running_loss += loss.item()\n",
        "\n",
        "        _, predicted = outputs.max(1)\n",
        "        total += labels.size(0)\n",
        "        correct += predicted.eq(labels).sum().item()\n",
        "\n",
        "    train_loss=running_loss/len(data)\n",
        "    accu=100.*correct/total\n",
        "\n",
        "    train_accu.append(accu)\n",
        "    train_losses.append(train_loss)\n",
        "    print('Train Loss: %.3f | Accuracy: %.3f'%(train_loss,accu))\n"
      ]
    },
    {
      "cell_type": "code",
      "execution_count": 14,
      "metadata": {
        "id": "LOEp6-AR_LMN"
      },
      "outputs": [],
      "source": [
        "eval_losses=[]\n",
        "eval_accu=[]\n",
        "\n",
        "def val(data):\n",
        "    correct = 0\n",
        "    running_loss=0\n",
        "    total=0\n",
        "    with torch.no_grad():\n",
        "      for element in data:\n",
        "          # Move input and label tensors to the device\n",
        "          inputs = element[\"pixel_values\"].to(device)\n",
        "          labels = element[\"label\"].to(device)\n",
        "\n",
        "        \n",
        "          outputs = model(inputs)\n",
        "          loss = criterion(outputs, labels)\n",
        "          running_loss += loss.item()\n",
        "\n",
        "          _, predicted = outputs.max(1)\n",
        "          total += labels.size(0)\n",
        "          correct += predicted.eq(labels).sum().item()\n",
        "\n",
        "    val_loss=running_loss/len(data)\n",
        "    accu=100.*correct/total\n",
        "\n",
        "    eval_accu.append(accu)\n",
        "    eval_losses.append(val_loss)\n",
        "    print('Val Loss: %.3f | Accuracy: %.3f'%(val_loss,accu))\n"
      ]
    },
    {
      "cell_type": "code",
      "execution_count": 40,
      "metadata": {
        "colab": {
          "base_uri": "https://localhost:8080/"
        },
        "id": "JwmVS4_GBKTM",
        "outputId": "0b2e1124-b3a2-4f43-d62e-23c3b745b171"
      },
      "outputs": [
        {
          "name": "stdout",
          "output_type": "stream",
          "text": [
            "\n",
            "Epoch : 1\n"
          ]
        },
        {
          "name": "stderr",
          "output_type": "stream",
          "text": [
            "/usr/local/lib/python3.9/dist-packages/torchvision/transforms/functional.py:1603: UserWarning: The default value of the antialias parameter of all the resizing transforms (Resize(), RandomResizedCrop(), etc.) will change from None to True in v0.17, in order to be consistent across the PIL and Tensor backends. To suppress this warning, directly pass antialias=True (recommended, future default), antialias=None (current default, which means False for Tensors and True for PIL), or antialias=False (only works on Tensors - PIL will still use antialiasing). This also applies if you are using the inference transforms from the models weights: update the call to weights.transforms(antialias=True).\n",
            "  warnings.warn(\n"
          ]
        },
        {
          "name": "stdout",
          "output_type": "stream",
          "text": [
            "Train Loss: 4.034 | Accuracy: 35.833\n",
            "Val Loss: 3.902 | Accuracy: 10.038\n",
            "\n",
            "Epoch : 2\n",
            "Train Loss: 1.663 | Accuracy: 60.196\n",
            "Val Loss: 5.034 | Accuracy: 10.038\n",
            "\n",
            "Epoch : 3\n",
            "Train Loss: 1.406 | Accuracy: 62.731\n",
            "Val Loss: 5.361 | Accuracy: 10.038\n",
            "\n",
            "Epoch : 4\n",
            "Train Loss: 1.420 | Accuracy: 59.742\n",
            "Val Loss: 5.538 | Accuracy: 10.038\n",
            "\n",
            "Epoch : 5\n",
            "Train Loss: 1.167 | Accuracy: 66.374\n",
            "Val Loss: 7.064 | Accuracy: 10.038\n",
            "\n",
            "Epoch : 6\n",
            "Train Loss: 1.161 | Accuracy: 67.737\n",
            "Val Loss: 7.020 | Accuracy: 10.038\n",
            "\n",
            "Epoch : 7\n",
            "Train Loss: 1.072 | Accuracy: 64.569\n",
            "Val Loss: 7.964 | Accuracy: 10.038\n",
            "\n",
            "Epoch : 8\n",
            "Train Loss: 1.068 | Accuracy: 67.916\n",
            "Val Loss: 7.529 | Accuracy: 10.038\n",
            "\n",
            "Epoch : 9\n",
            "Train Loss: 1.091 | Accuracy: 65.899\n",
            "Val Loss: 8.917 | Accuracy: 10.038\n",
            "\n",
            "Epoch : 10\n",
            "Train Loss: 1.130 | Accuracy: 66.881\n",
            "Val Loss: 9.677 | Accuracy: 10.038\n"
          ]
        }
      ],
      "source": [
        "epochs=10\n",
        "for epoch in range(1,epochs+1):\n",
        "  train(epoch,train_dataloader)\n",
        "  val(val_dataloader)"
      ]
    },
    {
      "cell_type": "code",
      "execution_count": 16,
      "metadata": {
        "id": "6PGFpxL4CCTV"
      },
      "outputs": [],
      "source": [
        "import matplotlib.pyplot as plt"
      ]
    },
    {
      "cell_type": "code",
      "execution_count": 42,
      "metadata": {
        "colab": {
          "base_uri": "https://localhost:8080/",
          "height": 472
        },
        "id": "a7lXmbTjB6_v",
        "outputId": "1d5884f4-cfac-4e8c-f3fd-a8d0bafa7ac2"
      },
      "outputs": [
        {
          "data": {
            "image/png": "[encoded data removed]",
            "text/plain": [
              "<Figure size 640x480 with 1 Axes>"
            ]
          },
          "metadata": {},
          "output_type": "display_data"
        }
      ],
      "source": [
        "plt.plot(train_accu,'-o')\n",
        "plt.plot(eval_accu,'-o')\n",
        "plt.xlabel('epoch')\n",
        "plt.ylabel('accuracy')\n",
        "plt.legend(['Train','Valid'])\n",
        "plt.title('Train vs Valid Accuracy')\n",
        "\n",
        "plt.show()"
      ]
    },
    {
      "cell_type": "code",
      "execution_count": 43,
      "metadata": {
        "colab": {
          "base_uri": "https://localhost:8080/",
          "height": 472
        },
        "id": "hm7Ml4fTB-7z",
        "outputId": "ac3cc5c0-5fb4-4492-957f-5b5f2ad77526"
      },
      "outputs": [
        {
          "data": {
            "image/png": "[encoded data removed]",
            "text/plain": [
              "<Figure size 640x480 with 1 Axes>"
            ]
          },
          "metadata": {},
          "output_type": "display_data"
        }
      ],
      "source": [
        "plt.plot(train_losses,'-o')\n",
        "plt.plot(eval_losses,'-o')\n",
        "plt.xlabel('epoch')\n",
        "plt.ylabel('losses')\n",
        "plt.legend(['Train','Valid'])\n",
        "plt.title('Train vs Valid Losses')\n",
        "\n",
        "plt.show()"
      ]
    },
    {
      "cell_type": "code",
      "execution_count": 15,
      "metadata": {},
      "outputs": [
        {
          "name": "stdout",
          "output_type": "stream",
          "text": [
            "\n",
            "Epoch : 1\n"
          ]
        },
        {
          "name": "stderr",
          "output_type": "stream",
          "text": [
            "/home/hakim/anaconda3/envs/py38/lib/python3.8/site-packages/torchvision/transforms/functional.py:1603: UserWarning: The default value of the antialias parameter of all the resizing transforms (Resize(), RandomResizedCrop(), etc.) will change from None to True in v0.17, in order to be consistent across the PIL and Tensor backends. To suppress this warning, directly pass antialias=True (recommended, future default), antialias=None (current default, which means False for Tensors and True for PIL), or antialias=False (only works on Tensors - PIL will still use antialiasing). This also applies if you are using the inference transforms from the models weights: update the call to weights.transforms(antialias=True).\n",
            "  warnings.warn(\n"
          ]
        },
        {
          "name": "stdout",
          "output_type": "stream",
          "text": [
            "Train Loss: 3.563 | Accuracy: 48.822\n",
            "Val Loss: 3.338 | Accuracy: 10.038\n",
            "\n",
            "Epoch : 2\n",
            "Train Loss: 1.815 | Accuracy: 57.292\n",
            "Val Loss: 4.007 | Accuracy: 10.038\n",
            "\n",
            "Epoch : 3\n",
            "Train Loss: 1.460 | Accuracy: 61.759\n",
            "Val Loss: 4.876 | Accuracy: 10.038\n",
            "\n",
            "Epoch : 4\n",
            "Train Loss: 1.507 | Accuracy: 55.824\n",
            "Val Loss: 4.745 | Accuracy: 10.038\n",
            "\n",
            "Epoch : 5\n",
            "Train Loss: 1.251 | Accuracy: 61.992\n",
            "Val Loss: 5.491 | Accuracy: 10.038\n",
            "\n",
            "Epoch : 6\n",
            "Train Loss: 1.173 | Accuracy: 65.477\n",
            "Val Loss: 5.813 | Accuracy: 10.038\n",
            "\n",
            "Epoch : 7\n",
            "Train Loss: 1.207 | Accuracy: 65.097\n",
            "Val Loss: 6.291 | Accuracy: 10.038\n",
            "\n",
            "Epoch : 8\n",
            "Train Loss: 1.137 | Accuracy: 66.712\n",
            "Val Loss: 7.113 | Accuracy: 10.038\n",
            "\n",
            "Epoch : 9\n",
            "Train Loss: 1.209 | Accuracy: 71.159\n",
            "Val Loss: 6.961 | Accuracy: 10.038\n",
            "\n",
            "Epoch : 10\n",
            "Train Loss: 1.104 | Accuracy: 65.033\n",
            "Val Loss: 6.427 | Accuracy: 10.038\n"
          ]
        }
      ],
      "source": [
        "epochs=10\n",
        "for epoch in range(1,epochs+1):\n",
        "  train(epoch,train_dataloader)\n",
        "  val(val_dataloader)"
      ]
    },
    {
      "cell_type": "code",
      "execution_count": 17,
      "metadata": {},
      "outputs": [
        {
          "data": {
            "image/png": "[encoded data removed]",
            "text/plain": [
              "<Figure size 432x288 with 1 Axes>"
            ]
          },
          "metadata": {
            "needs_background": "light"
          },
          "output_type": "display_data"
        }
      ],
      "source": [
        "plt.plot(train_accu,'-o')\n",
        "plt.plot(eval_accu,'-o')\n",
        "plt.xlabel('epoch')\n",
        "plt.ylabel('accuracy')\n",
        "plt.legend(['Train','Valid'])\n",
        "plt.title('Train vs Valid Accuracy')\n",
        "\n",
        "plt.show()"
      ]
    },
    {
      "cell_type": "code",
      "execution_count": 18,
      "metadata": {},
      "outputs": [
        {
          "data": {
            "image/png": "[encoded data removed]",
            "text/plain": [
              "<Figure size 432x288 with 1 Axes>"
            ]
          },
          "metadata": {
            "needs_background": "light"
          },
          "output_type": "display_data"
        }
      ],
      "source": [
        "plt.plot(train_losses,'-o')\n",
        "plt.plot(eval_losses,'-o')\n",
        "plt.xlabel('epoch')\n",
        "plt.ylabel('losses')\n",
        "plt.legend(['Train','Valid'])\n",
        "plt.title('Train vs Valid Losses')\n",
        "\n",
        "plt.show()"
      ]
    },
    {
      "cell_type": "code",
      "execution_count": null,
      "metadata": {},
      "outputs": [],
      "source": [
        "from torchvision.io import read_image\n",
        "\n",
        "img = read_image(\"test/assets/encode_jpeg/grace_hopper_517x606.jpg\")\n",
        "\n",
        "# Step 1: Initialize model with the best available weights\n",
        "weights = ResNet50_Weights.DEFAULT\n",
        "model = resnet50(weights=weights)\n",
        "model.eval()\n",
        "\n",
        "# Step 2: Initialize the inference transforms\n",
        "preprocess = weights.transforms()\n",
        "\n",
        "# Step 3: Apply inference preprocessing transforms\n",
        "batch = preprocess(img).unsqueeze(0)\n",
        "\n",
        "# Step 4: Use the model and print the predicted category\n",
        "prediction = model(batch).squeeze(0).softmax(0)\n",
        "class_id = prediction.argmax().item()\n",
        "score = prediction[class_id].item()\n",
        "category_name = weights.meta[\"categories\"][class_id]\n",
        "print(f\"{category_name}: {100 * score:.1f}%\")"
      ]
    },
    {
      "cell_type": "code",
      "execution_count": 64,
      "metadata": {},
      "outputs": [
        {
          "name": "stdout",
          "output_type": "stream",
          "text": [
            "tensor([5], device='cuda:0')\n"
          ]
        }
      ],
      "source": [
        "from PIL import Image\n",
        "\n",
        "model.eval()\n",
        "image = Image.open('test.jpg')\n",
        "  \n",
        "# Define a transform to convert PIL \n",
        "# image to a Torch tensor\n",
        "transform = Compose([\n",
        "    ToTensor()\n",
        "])\n",
        "  \n",
        "# transform = transforms.PILToTensor()\n",
        "# Convert the PIL image to Torch tensor\n",
        "\n",
        "img_tensor = transform(image)\n",
        "\n",
        "inputs = img_tensor.to(device)\n",
        "\n",
        "with torch.no_grad():\n",
        "    outputs = model(inputs.unsqueeze(0))\n",
        "    _, predicted = torch.max(outputs.data, 1)\n",
        "    \n",
        "    print(predicted)"
      ]
    },
    {
      "cell_type": "code",
      "execution_count": 65,
      "metadata": {},
      "outputs": [
        {
          "data": {
            "text/plain": [
              "'French horn'"
            ]
          },
          "execution_count": 65,
          "metadata": {},
          "output_type": "execute_result"
        }
      ],
      "source": [
        "dataset[\"train\"].features[\"label\"].names[predicted]"
      ]
    },
    {
      "cell_type": "code",
      "execution_count": null,
      "metadata": {},
      "outputs": [],
      "source": []
    }
  ],
  "metadata": {
    "accelerator": "GPU",
    "colab": {
      "gpuType": "T4",
      "provenance": []
    },
    "gpuClass": "standard",
    "kernelspec": {
      "display_name": "Python 3",
      "language": "python",
      "name": "python3"
    },
    "language_info": {
      "codemirror_mode": {
        "name": "ipython",
        "version": 3
      },
      "file_extension": ".py",
      "mimetype": "text/x-python",
      "name": "python",
      "nbconvert_exporter": "python",
      "pygments_lexer": "ipython3",
      "version": "3.8.16"
    },
    "widgets": {
      "application/vnd.jupyter.widget-state+json": {
        "36c0d6bd5f3b413db9ef0b6682be9398": {
          "model_module": "@jupyter-widgets/base",
          "model_module_version": "1.2.0",
          "model_name": "LayoutModel",
          "state": {
            "_model_module": "@jupyter-widgets/base",
            "_model_module_version": "1.2.0",
            "_model_name": "LayoutModel",
            "_view_count": null,
            "_view_module": "@jupyter-widgets/base",
            "_view_module_version": "1.2.0",
            "_view_name": "LayoutView",
            "align_content": null,
            "align_items": null,
            "align_self": null,
            "border": null,
            "bottom": null,
            "display": null,
            "flex": null,
            "flex_flow": null,
            "grid_area": null,
            "grid_auto_columns": null,
            "grid_auto_flow": null,
            "grid_auto_rows": null,
            "grid_column": null,
            "grid_gap": null,
            "grid_row": null,
            "grid_template_areas": null,
            "grid_template_columns": null,
            "grid_template_rows": null,
            "height": null,
            "justify_content": null,
            "justify_items": null,
            "left": null,
            "margin": null,
            "max_height": null,
            "max_width": null,
            "min_height": null,
            "min_width": null,
            "object_fit": null,
            "object_position": null,
            "order": null,
            "overflow": null,
            "overflow_x": null,
            "overflow_y": null,
            "padding": null,
            "right": null,
            "top": null,
            "visibility": null,
            "width": null
          }
        },
        "4792ac96efed4b0e93c05741102d9bb8": {
          "model_module": "@jupyter-widgets/base",
          "model_module_version": "1.2.0",
          "model_name": "LayoutModel",
          "state": {
            "_model_module": "@jupyter-widgets/base",
            "_model_module_version": "1.2.0",
            "_model_name": "LayoutModel",
            "_view_count": null,
            "_view_module": "@jupyter-widgets/base",
            "_view_module_version": "1.2.0",
            "_view_name": "LayoutView",
            "align_content": null,
            "align_items": null,
            "align_self": null,
            "border": null,
            "bottom": null,
            "display": null,
            "flex": null,
            "flex_flow": null,
            "grid_area": null,
            "grid_auto_columns": null,
            "grid_auto_flow": null,
            "grid_auto_rows": null,
            "grid_column": null,
            "grid_gap": null,
            "grid_row": null,
            "grid_template_areas": null,
            "grid_template_columns": null,
            "grid_template_rows": null,
            "height": null,
            "justify_content": null,
            "justify_items": null,
            "left": null,
            "margin": null,
            "max_height": null,
            "max_width": null,
            "min_height": null,
            "min_width": null,
            "object_fit": null,
            "object_position": null,
            "order": null,
            "overflow": null,
            "overflow_x": null,
            "overflow_y": null,
            "padding": null,
            "right": null,
            "top": null,
            "visibility": null,
            "width": null
          }
        },
        "514631365a9041eab66c911c981230a4": {
          "model_module": "@jupyter-widgets/controls",
          "model_module_version": "1.5.0",
          "model_name": "DescriptionStyleModel",
          "state": {
            "_model_module": "@jupyter-widgets/controls",
            "_model_module_version": "1.5.0",
            "_model_name": "DescriptionStyleModel",
            "_view_count": null,
            "_view_module": "@jupyter-widgets/base",
            "_view_module_version": "1.2.0",
            "_view_name": "StyleView",
            "description_width": ""
          }
        },
        "86c9a00e1e4f402a924550f10b228c83": {
          "model_module": "@jupyter-widgets/controls",
          "model_module_version": "1.5.0",
          "model_name": "FloatProgressModel",
          "state": {
            "_dom_classes": [],
            "_model_module": "@jupyter-widgets/controls",
            "_model_module_version": "1.5.0",
            "_model_name": "FloatProgressModel",
            "_view_count": null,
            "_view_module": "@jupyter-widgets/controls",
            "_view_module_version": "1.5.0",
            "_view_name": "ProgressView",
            "bar_style": "success",
            "description": "",
            "description_tooltip": null,
            "layout": "IPY_MODEL_36c0d6bd5f3b413db9ef0b6682be9398",
            "max": 2,
            "min": 0,
            "orientation": "horizontal",
            "style": "IPY_MODEL_d9a1347502554a0e8211669496da376f",
            "value": 2
          }
        },
        "8d19516355ff43d299757b4296c0e884": {
          "model_module": "@jupyter-widgets/base",
          "model_module_version": "1.2.0",
          "model_name": "LayoutModel",
          "state": {
            "_model_module": "@jupyter-widgets/base",
            "_model_module_version": "1.2.0",
            "_model_name": "LayoutModel",
            "_view_count": null,
            "_view_module": "@jupyter-widgets/base",
            "_view_module_version": "1.2.0",
            "_view_name": "LayoutView",
            "align_content": null,
            "align_items": null,
            "align_self": null,
            "border": null,
            "bottom": null,
            "display": null,
            "flex": null,
            "flex_flow": null,
            "grid_area": null,
            "grid_auto_columns": null,
            "grid_auto_flow": null,
            "grid_auto_rows": null,
            "grid_column": null,
            "grid_gap": null,
            "grid_row": null,
            "grid_template_areas": null,
            "grid_template_columns": null,
            "grid_template_rows": null,
            "height": null,
            "justify_content": null,
            "justify_items": null,
            "left": null,
            "margin": null,
            "max_height": null,
            "max_width": null,
            "min_height": null,
            "min_width": null,
            "object_fit": null,
            "object_position": null,
            "order": null,
            "overflow": null,
            "overflow_x": null,
            "overflow_y": null,
            "padding": null,
            "right": null,
            "top": null,
            "visibility": null,
            "width": null
          }
        },
        "8d91a7c703884b54bb9435dd9a092b68": {
          "model_module": "@jupyter-widgets/base",
          "model_module_version": "1.2.0",
          "model_name": "LayoutModel",
          "state": {
            "_model_module": "@jupyter-widgets/base",
            "_model_module_version": "1.2.0",
            "_model_name": "LayoutModel",
            "_view_count": null,
            "_view_module": "@jupyter-widgets/base",
            "_view_module_version": "1.2.0",
            "_view_name": "LayoutView",
            "align_content": null,
            "align_items": null,
            "align_self": null,
            "border": null,
            "bottom": null,
            "display": null,
            "flex": null,
            "flex_flow": null,
            "grid_area": null,
            "grid_auto_columns": null,
            "grid_auto_flow": null,
            "grid_auto_rows": null,
            "grid_column": null,
            "grid_gap": null,
            "grid_row": null,
            "grid_template_areas": null,
            "grid_template_columns": null,
            "grid_template_rows": null,
            "height": null,
            "justify_content": null,
            "justify_items": null,
            "left": null,
            "margin": null,
            "max_height": null,
            "max_width": null,
            "min_height": null,
            "min_width": null,
            "object_fit": null,
            "object_position": null,
            "order": null,
            "overflow": null,
            "overflow_x": null,
            "overflow_y": null,
            "padding": null,
            "right": null,
            "top": null,
            "visibility": null,
            "width": null
          }
        },
        "99c3462b3b1d4113911cdb0fda899f3d": {
          "model_module": "@jupyter-widgets/controls",
          "model_module_version": "1.5.0",
          "model_name": "DescriptionStyleModel",
          "state": {
            "_model_module": "@jupyter-widgets/controls",
            "_model_module_version": "1.5.0",
            "_model_name": "DescriptionStyleModel",
            "_view_count": null,
            "_view_module": "@jupyter-widgets/base",
            "_view_module_version": "1.2.0",
            "_view_name": "StyleView",
            "description_width": ""
          }
        },
        "b69b9f3904da419e841fdb9dd584364d": {
          "model_module": "@jupyter-widgets/controls",
          "model_module_version": "1.5.0",
          "model_name": "HTMLModel",
          "state": {
            "_dom_classes": [],
            "_model_module": "@jupyter-widgets/controls",
            "_model_module_version": "1.5.0",
            "_model_name": "HTMLModel",
            "_view_count": null,
            "_view_module": "@jupyter-widgets/controls",
            "_view_module_version": "1.5.0",
            "_view_name": "HTMLView",
            "description": "",
            "description_tooltip": null,
            "layout": "IPY_MODEL_4792ac96efed4b0e93c05741102d9bb8",
            "placeholder": "​",
            "style": "IPY_MODEL_99c3462b3b1d4113911cdb0fda899f3d",
            "value": " 2/2 [00:00&lt;00:00, 87.03it/s]"
          }
        },
        "d9a1347502554a0e8211669496da376f": {
          "model_module": "@jupyter-widgets/controls",
          "model_module_version": "1.5.0",
          "model_name": "ProgressStyleModel",
          "state": {
            "_model_module": "@jupyter-widgets/controls",
            "_model_module_version": "1.5.0",
            "_model_name": "ProgressStyleModel",
            "_view_count": null,
            "_view_module": "@jupyter-widgets/base",
            "_view_module_version": "1.2.0",
            "_view_name": "StyleView",
            "bar_color": null,
            "description_width": ""
          }
        },
        "e3efb85b0c89446680c1c4881aca5134": {
          "model_module": "@jupyter-widgets/controls",
          "model_module_version": "1.5.0",
          "model_name": "HTMLModel",
          "state": {
            "_dom_classes": [],
            "_model_module": "@jupyter-widgets/controls",
            "_model_module_version": "1.5.0",
            "_model_name": "HTMLModel",
            "_view_count": null,
            "_view_module": "@jupyter-widgets/controls",
            "_view_module_version": "1.5.0",
            "_view_name": "HTMLView",
            "description": "",
            "description_tooltip": null,
            "layout": "IPY_MODEL_8d91a7c703884b54bb9435dd9a092b68",
            "placeholder": "​",
            "style": "IPY_MODEL_514631365a9041eab66c911c981230a4",
            "value": "100%"
          }
        },
        "f9c8b4a56ead46b183ee31ef830516dc": {
          "model_module": "@jupyter-widgets/controls",
          "model_module_version": "1.5.0",
          "model_name": "HBoxModel",
          "state": {
            "_dom_classes": [],
            "_model_module": "@jupyter-widgets/controls",
            "_model_module_version": "1.5.0",
            "_model_name": "HBoxModel",
            "_view_count": null,
            "_view_module": "@jupyter-widgets/controls",
            "_view_module_version": "1.5.0",
            "_view_name": "HBoxView",
            "box_style": "",
            "children": [
              "IPY_MODEL_e3efb85b0c89446680c1c4881aca5134",
              "IPY_MODEL_86c9a00e1e4f402a924550f10b228c83",
              "IPY_MODEL_b69b9f3904da419e841fdb9dd584364d"
            ],
            "layout": "IPY_MODEL_8d19516355ff43d299757b4296c0e884"
          }
        }
      }
    }
  },
  "nbformat": 4,
  "nbformat_minor": 0
}
