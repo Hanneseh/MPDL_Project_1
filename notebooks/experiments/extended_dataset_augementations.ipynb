{
 "cells": [
  {
   "cell_type": "code",
   "execution_count": 1,
   "metadata": {},
   "outputs": [
    {
     "name": "stderr",
     "output_type": "stream",
     "text": [
      "/home/hakim/anaconda3/envs/py38/lib/python3.8/site-packages/tqdm/auto.py:21: TqdmWarning: IProgress not found. Please update jupyter and ipywidgets. See https://ipywidgets.readthedocs.io/en/stable/user_install.html\n",
      "  from .autonotebook import tqdm as notebook_tqdm\n"
     ]
    }
   ],
   "source": [
    "from transformers import AutoTokenizer\n",
    "import torch\n",
    "\n",
    "import torchvision\n",
    "import torchvision.transforms as transforms\n",
    "from torchvision.transforms import Compose, ColorJitter, ToTensor, Resize\n",
    "from torchvision.models import ResNet50_Weights\n",
    "from torch.utils.data import DataLoader\n",
    "from datasets import load_dataset,ClassLabel,Value,concatenate_datasets,Features,Array2D\n",
    "import matplotlib.pyplot as plt\n",
    "import numpy as np"
   ]
  },
  {
   "cell_type": "code",
   "execution_count": 2,
   "metadata": {},
   "outputs": [
    {
     "name": "stderr",
     "output_type": "stream",
     "text": [
      "Found cached dataset diffusiondb (/home/hakim/.cache/huggingface/datasets/poloclub___diffusiondb/2m_first_10k/0.9.1/547894e3a57aa647ead68c9faf148324098f47f2bc1ab6705d670721de9d89d1)\n",
      "100%|██████████| 1/1 [00:00<00:00, 235.05it/s]\n",
      "Found cached dataset diffusiondb (/home/hakim/.cache/huggingface/datasets/poloclub___diffusiondb/2m_random_5k/0.9.1/547894e3a57aa647ead68c9faf148324098f47f2bc1ab6705d670721de9d89d1)\n",
      "100%|██████████| 1/1 [00:00<00:00, 282.24it/s]\n",
      "Found cached dataset imagenette (/home/hakim/.cache/huggingface/datasets/frgfm___imagenette/160px/1.0.0/38929285b8abcae5c1305418e9d8fea5dd6b189bbbd22caba5f5537c7fa0f01f)\n",
      "100%|██████████| 2/2 [00:00<00:00, 568.30it/s]\n"
     ]
    }
   ],
   "source": [
    "dataset_diffusion_train = load_dataset(\"poloclub/diffusiondb\",\"2m_first_10k\")\n",
    "dataset_diffusion_test = load_dataset(\"poloclub/diffusiondb\",\"2m_random_5k\")\n",
    "dataset_imagenette = load_dataset(\"frgfm/imagenette\",\"160px\")"
   ]
  },
  {
   "cell_type": "code",
   "execution_count": 3,
   "metadata": {},
   "outputs": [
    {
     "name": "stderr",
     "output_type": "stream",
     "text": [
      "Resolving data files: 100%|██████████| 9000/9000 [00:00<00:00, 31764.71it/s]\n",
      "Found cached dataset imagefolder (/home/hakim/.cache/huggingface/datasets/imagefolder/default-978fb707cc59151c/0.0.0/37fbb85cc714a338bea574ac6c7d0b5be5aff46c1862c1989b20e0771199e93f)\n",
      "100%|██████████| 1/1 [00:00<00:00, 27.61it/s]\n",
      "Resolving data files: 100%|██████████| 9000/9000 [00:00<00:00, 22279.34it/s]\n",
      "Found cached dataset imagefolder (/home/hakim/.cache/huggingface/datasets/imagefolder/default-c679bedf4163c9f4/0.0.0/37fbb85cc714a338bea574ac6c7d0b5be5aff46c1862c1989b20e0771199e93f)\n",
      "100%|██████████| 1/1 [00:00<00:00, 48.71it/s]\n",
      "Resolving data files: 100%|██████████| 20000/20000 [00:00<00:00, 90752.70it/s] \n",
      "Found cached dataset imagefolder (/home/hakim/.cache/huggingface/datasets/imagefolder/default-c14a0d4b24c52528/0.0.0/37fbb85cc714a338bea574ac6c7d0b5be5aff46c1862c1989b20e0771199e93f)\n",
      "100%|██████████| 1/1 [00:00<00:00, 21.45it/s]\n",
      "Resolving data files: 100%|██████████| 9000/9000 [00:00<00:00, 89098.54it/s]\n",
      "Found cached dataset imagefolder (/home/hakim/.cache/huggingface/datasets/imagefolder/default-0b7c082736bbcb8d/0.0.0/37fbb85cc714a338bea574ac6c7d0b5be5aff46c1862c1989b20e0771199e93f)\n",
      "100%|██████████| 1/1 [00:00<00:00, 46.73it/s]\n"
     ]
    }
   ],
   "source": [
    "dataset_fake_1 = load_dataset(\"imagefolder\", data_dir='/home/hakim/Desktop/data/0/sd15_train/')\n",
    "dataset_fake_2 = load_dataset(\"imagefolder\", data_dir='/home/hakim/Desktop/data/0/sd20_train/')\n",
    "dataset_real_1 = load_dataset(\"imagefolder\", data_dir='/home/hakim/Desktop/data_2/1/test_subset/')\n",
    "dataset_real_2 = load_dataset(\"imagefolder\", data_dir='/home/hakim/Desktop/data_2/1/train/')"
   ]
  },
  {
   "cell_type": "code",
   "execution_count": 4,
   "metadata": {},
   "outputs": [],
   "source": [
    "dataset_fake_1 = dataset_fake_1[\"train\"]\n",
    "dataset_fake_2 = dataset_fake_2[\"train\"]\n",
    "dataset_real_1 = dataset_real_1[\"train\"].select(range(9000))\n",
    "dataset_real_2 = dataset_real_2[\"train\"]"
   ]
  },
  {
   "cell_type": "code",
   "execution_count": 5,
   "metadata": {},
   "outputs": [],
   "source": [
    "train_real_1 = dataset_real_1.select(range(3000))\n",
    "val_real_1 = dataset_real_1.select(range(3000,6000))\n",
    "test_real_1 = dataset_real_1.select(range(6000,9000)) \n",
    "\n",
    "train_real_2 = dataset_real_2.select(range(3000))\n",
    "val_real_2 = dataset_real_2.select(range(3000,6000))\n",
    "test_real_2 = dataset_real_2.select(range(6000,9000)) "
   ]
  },
  {
   "cell_type": "code",
   "execution_count": 6,
   "metadata": {},
   "outputs": [],
   "source": [
    "train_fake_1 = dataset_fake_1.select(range(3000))\n",
    "val_fake_1 = dataset_fake_1.select(range(3000,6000))\n",
    "test_fake_1 = dataset_fake_1.select(range(6000,9000)) \n",
    "\n",
    "train_fake_2 = dataset_fake_2.select(range(3000))\n",
    "val_fake_2 = dataset_fake_2.select(range(3000,6000))\n",
    "test_fake_2 = dataset_fake_2.select(range(6000,9000)) "
   ]
  },
  {
   "cell_type": "code",
   "execution_count": 7,
   "metadata": {},
   "outputs": [],
   "source": [
    "train_I = dataset_imagenette[\"train\"]\n",
    "val_I = dataset_imagenette[\"validation\"].select(range(1962))\n",
    "test_I = dataset_imagenette[\"validation\"].select(range(1962,3925)) "
   ]
  },
  {
   "cell_type": "code",
   "execution_count": 8,
   "metadata": {},
   "outputs": [],
   "source": [
    "train_db = dataset_diffusion_train[\"train\"].select(range(9469))\n",
    "val_db = dataset_diffusion_test[\"train\"].select(range(1962))\n",
    "test_db = dataset_diffusion_test[\"train\"].select(range(1962,3925))"
   ]
  },
  {
   "cell_type": "code",
   "execution_count": 9,
   "metadata": {},
   "outputs": [],
   "source": [
    "label_column = len(train_real_1) * [1]\n",
    "train_real_1 = train_real_1.add_column(\"label\",label_column)\n",
    "val_real_1 = val_real_1.add_column(\"label\",label_column)\n",
    "test_real_1 = test_real_1.add_column(\"label\",label_column)\n",
    "train_real_2 = train_real_2.add_column(\"label\",label_column)\n",
    "val_real_2 = val_real_2.add_column(\"label\",label_column)\n",
    "test_real_2 = test_real_2.add_column(\"label\",label_column)"
   ]
  },
  {
   "cell_type": "code",
   "execution_count": 10,
   "metadata": {},
   "outputs": [],
   "source": [
    "label_column = len(train_real_1) * [0]\n",
    "train_fake_1 = train_fake_1.add_column(\"label\",label_column)\n",
    "val_fake_1 = val_fake_1.add_column(\"label\",label_column)\n",
    "test_fake_1 = test_fake_1.add_column(\"label\",label_column)\n",
    "train_fake_2 = train_fake_2.add_column(\"label\",label_column)\n",
    "val_fake_2 = val_fake_2.add_column(\"label\",label_column)\n",
    "test_fake_2 = test_fake_2.add_column(\"label\",label_column)"
   ]
  },
  {
   "cell_type": "code",
   "execution_count": 11,
   "metadata": {},
   "outputs": [],
   "source": [
    "label_column = len(train_db) * [0]\n",
    "train_db = train_db.add_column(\"label\",label_column)\n",
    "label_column = len(val_db) * [0]\n",
    "val_db = val_db.add_column(\"label\",label_column)\n",
    "label_column = len(test_db) * [0]\n",
    "test_db = test_db.add_column(\"label\",label_column)"
   ]
  },
  {
   "cell_type": "code",
   "execution_count": 12,
   "metadata": {},
   "outputs": [],
   "source": [
    "del_col = ['prompt','seed', 'step','cfg','sampler','width','height','user_name','timestamp','image_nsfw', 'prompt_nsfw']\n",
    "train_db = train_db.remove_columns(del_col)\n",
    "val_db = val_db.remove_columns(del_col)\n",
    "test_db = test_db.remove_columns(del_col)"
   ]
  },
  {
   "cell_type": "code",
   "execution_count": 13,
   "metadata": {},
   "outputs": [],
   "source": [
    "train_I = train_I.remove_columns(\"label\")\n",
    "val_I = val_I.remove_columns(\"label\")\n",
    "test_I = test_I.remove_columns(\"label\")"
   ]
  },
  {
   "cell_type": "code",
   "execution_count": 14,
   "metadata": {},
   "outputs": [],
   "source": [
    "label_column = len(train_I) * [1]\n",
    "train_I = train_I.add_column(\"label\",label_column)\n",
    "label_column = len(val_I) * [1]\n",
    "val_I = val_I.add_column(\"label\",label_column)\n",
    "label_column = len(test_I) * [1]\n",
    "test_I = test_I.add_column(\"label\",label_column)"
   ]
  },
  {
   "cell_type": "code",
   "execution_count": 15,
   "metadata": {},
   "outputs": [],
   "source": [
    "train = concatenate_datasets([train_I,train_db,train_fake_1,train_fake_2,train_real_1,train_real_2])\n",
    "val = concatenate_datasets([val_I,val_db,val_fake_1,val_fake_2,val_real_1,val_real_2])\n",
    "test = concatenate_datasets([test_I,test_db,test_fake_1,test_fake_2,test_real_1,test_real_2])"
   ]
  },
  {
   "cell_type": "code",
   "execution_count": 17,
   "metadata": {},
   "outputs": [],
   "source": [
    "jitter = Compose(\n",
    "    [ \n",
    "    Resize((160,160)),\n",
    "    transforms.RandomHorizontalFlip(),\n",
    "    transforms.RandomVerticalFlip(),\n",
    "    transforms.RandomRotation(degrees=45),\n",
    "    ToTensor(),\n",
    "    ]\n",
    ")"
   ]
  },
  {
   "cell_type": "code",
   "execution_count": 18,
   "metadata": {},
   "outputs": [],
   "source": [
    "def transforms(examples):\n",
    "\n",
    "    examples[\"pixel_values\"] = [jitter(image.convert(\"RGB\")) for image in examples[\"image\"]]\n",
    "\n",
    "    return examples"
   ]
  },
  {
   "cell_type": "code",
   "execution_count": 19,
   "metadata": {},
   "outputs": [],
   "source": [
    "train_dataset = train.with_transform(transforms)\n",
    "val_dataset = val.with_transform(transforms)\n",
    "test_dataset = test.with_transform(transforms)"
   ]
  },
  {
   "cell_type": "code",
   "execution_count": 20,
   "metadata": {},
   "outputs": [],
   "source": [
    "# Set device\n",
    "device = torch.device(\"cuda\" if torch.cuda.is_available() else \"cpu\")\n",
    "\n",
    "# Set hyperparameters\n",
    "num_epochs = 10\n",
    "batch_size = 64\n",
    "learning_rate = 0.001"
   ]
  },
  {
   "cell_type": "code",
   "execution_count": 21,
   "metadata": {},
   "outputs": [],
   "source": [
    "def collate_fn(examples):\n",
    "\n",
    "    images = []\n",
    "\n",
    "    labels = []\n",
    "\n",
    "    for example in examples:\n",
    "\n",
    "        images.append((example[\"pixel_values\"]))\n",
    "\n",
    "        labels.append(example[\"label\"])\n",
    "\n",
    "    pixel_values = torch.stack(images)\n",
    "\n",
    "    labels = torch.tensor(labels)\n",
    "\n",
    "    return {\"pixel_values\": pixel_values, \"label\": labels}\n",
    "\n",
    "train_dataloader = DataLoader(train_dataset, collate_fn=collate_fn, batch_size=batch_size,shuffle=True,num_workers=2)\n",
    "val_dataloader =  DataLoader(val_dataset, collate_fn=collate_fn, batch_size=batch_size,shuffle=True,num_workers=2)\n",
    "test_dataloader = DataLoader(test_dataset, collate_fn=collate_fn, batch_size=batch_size,shuffle=True,num_workers=2)"
   ]
  },
  {
   "cell_type": "code",
   "execution_count": 22,
   "metadata": {},
   "outputs": [],
   "source": [
    "model = torchvision.models.resnet50(weights=ResNet50_Weights.IMAGENET1K_V2)\n",
    "model.fc.out_features = 2"
   ]
  },
  {
   "cell_type": "code",
   "execution_count": 23,
   "metadata": {},
   "outputs": [],
   "source": [
    "model = model.to(device)\n",
    "\n",
    "criterion = torch.nn.CrossEntropyLoss()\n",
    "optimizer = torch.optim.Adam(model.parameters(), lr=learning_rate)"
   ]
  },
  {
   "cell_type": "code",
   "execution_count": 24,
   "metadata": {},
   "outputs": [],
   "source": [
    "tr = model.train()"
   ]
  },
  {
   "cell_type": "code",
   "execution_count": 25,
   "metadata": {},
   "outputs": [],
   "source": [
    "train_accu = []\n",
    "train_losses = []\n",
    "\n",
    "def train(epoch,data):\n",
    "    print('\\nEpoch : %d'%epoch)\n",
    "    correct = 0\n",
    "    running_loss=0\n",
    "    total=0\n",
    "    for element in data:\n",
    "        # Move input and label tensors to the device\n",
    "        inputs = element[\"pixel_values\"].to(device)\n",
    "        labels = element[\"label\"].to(device)\n",
    "\n",
    "        # Zero out the optimizer\n",
    "        optimizer.zero_grad()\n",
    "\n",
    "        # Forward pass\n",
    "        outputs = model(inputs)\n",
    "        loss = criterion(outputs, labels)\n",
    "        \n",
    "        # Backward pass\n",
    "        loss.backward()\n",
    "        optimizer.step()\n",
    "        running_loss += loss.item()\n",
    "\n",
    "        _, predicted = outputs.max(1)\n",
    "        total += labels.size(0)\n",
    "        correct += predicted.eq(labels).sum().item()\n",
    "\n",
    "    train_loss = running_loss/len(data)\n",
    "    accu=100.*correct/total\n",
    "\n",
    "    train_accu.append(accu)\n",
    "    train_losses.append(train_loss)\n",
    "    print('Train Loss: %.3f | Accuracy: %.3f'%(train_loss,accu))\n"
   ]
  },
  {
   "cell_type": "code",
   "execution_count": 26,
   "metadata": {},
   "outputs": [],
   "source": [
    "eval_losses=[]\n",
    "eval_accu=[]\n",
    "\n",
    "def val(data):\n",
    "    correct = 0\n",
    "    running_loss=0\n",
    "    total=0\n",
    "    with torch.no_grad():\n",
    "      for element in data:\n",
    "        \n",
    "          inputs = element[\"pixel_values\"].to(device)\n",
    "          labels = element[\"label\"].to(device)\n",
    "\n",
    "        \n",
    "          outputs = model(inputs)\n",
    "          loss = criterion(outputs, labels)\n",
    "          running_loss += loss.item()\n",
    "\n",
    "          _, predicted = outputs.max(1)\n",
    "          total += labels.size(0)\n",
    "          correct += predicted.eq(labels).sum().item()\n",
    "\n",
    "    val_loss =running_loss/len(data)\n",
    "    accu=100.*correct/total\n",
    "\n",
    "    eval_accu.append(accu)\n",
    "    eval_losses.append(val_loss)\n",
    "    print('Val Loss: %.3f | Accuracy: %.3f'%(val_loss,accu))"
   ]
  },
  {
   "cell_type": "code",
   "execution_count": 27,
   "metadata": {},
   "outputs": [],
   "source": [
    "import warnings\n",
    "warnings.filterwarnings(\"ignore\")"
   ]
  },
  {
   "cell_type": "code",
   "execution_count": 28,
   "metadata": {},
   "outputs": [
    {
     "name": "stdout",
     "output_type": "stream",
     "text": [
      "\n",
      "Epoch : 1\n",
      "Train Loss: 0.312 | Accuracy: 88.567\n",
      "Val Loss: 0.343 | Accuracy: 87.120\n",
      "\n",
      "Epoch : 2\n",
      "Train Loss: 0.195 | Accuracy: 92.045\n",
      "Val Loss: 0.257 | Accuracy: 89.375\n",
      "\n",
      "Epoch : 3\n",
      "Train Loss: 0.186 | Accuracy: 92.588\n",
      "Val Loss: 0.260 | Accuracy: 89.720\n",
      "\n",
      "Epoch : 4\n",
      "Train Loss: 0.171 | Accuracy: 93.154\n",
      "Val Loss: 0.279 | Accuracy: 89.017\n",
      "\n",
      "Epoch : 5\n",
      "Train Loss: 0.163 | Accuracy: 93.371\n",
      "Val Loss: 0.232 | Accuracy: 90.901\n",
      "\n",
      "Epoch : 6\n",
      "Train Loss: 0.151 | Accuracy: 93.904\n",
      "Val Loss: 0.243 | Accuracy: 90.599\n",
      "\n",
      "Epoch : 7\n",
      "Train Loss: 0.153 | Accuracy: 93.823\n",
      "Val Loss: 0.251 | Accuracy: 89.770\n",
      "\n",
      "Epoch : 8\n",
      "Train Loss: 0.149 | Accuracy: 93.965\n",
      "Val Loss: 0.242 | Accuracy: 90.053\n",
      "\n",
      "Epoch : 9\n",
      "Train Loss: 0.139 | Accuracy: 94.392\n",
      "Val Loss: 0.240 | Accuracy: 90.304\n",
      "\n",
      "Epoch : 10\n",
      "Train Loss: 0.137 | Accuracy: 94.411\n",
      "Val Loss: 0.233 | Accuracy: 90.505\n"
     ]
    }
   ],
   "source": [
    "epochs=10\n",
    "for epoch in range(1,epochs+1):\n",
    "  train(epoch,train_dataloader)\n",
    "  val(val_dataloader)"
   ]
  },
  {
   "cell_type": "code",
   "execution_count": 29,
   "metadata": {},
   "outputs": [
    {
     "name": "stdout",
     "output_type": "stream",
     "text": [
      "Accuracy of the model on the test images: 91.6677131734271 %\n"
     ]
    }
   ],
   "source": [
    "model.eval()\n",
    "with torch.no_grad():\n",
    "    correct = 0\n",
    "    total = 0\n",
    "    for element in test_dataloader:\n",
    "          # Move input and label tensors to the device\n",
    "        inputs = element[\"pixel_values\"].to(device)\n",
    "        labels = element[\"label\"].to(device)\n",
    "        outputs = model(inputs)\n",
    "        _, predicted = torch.max(outputs.data, 1)\n",
    "        total += labels.size(0)\n",
    "        correct += (predicted == labels).sum().item()\n",
    "\n",
    "    print('Accuracy of the model on the test images: {} %'.format(100 * correct / total))"
   ]
  },
  {
   "cell_type": "code",
   "execution_count": 30,
   "metadata": {},
   "outputs": [
    {
     "data": {
      "image/png": "[encoded data removed]",
      "text/plain": [
       "<Figure size 432x288 with 1 Axes>"
      ]
     },
     "metadata": {
      "needs_background": "light"
     },
     "output_type": "display_data"
    }
   ],
   "source": [
    "plt.plot(train_accu,'-o')\n",
    "plt.plot(eval_accu,'-o')\n",
    "plt.xlabel('epoch')\n",
    "plt.ylabel('accuracy')\n",
    "plt.legend(['Train','Valid'])\n",
    "plt.title('Train vs Valid Accuracy')\n",
    "\n",
    "plt.show()"
   ]
  },
  {
   "cell_type": "code",
   "execution_count": 31,
   "metadata": {},
   "outputs": [
    {
     "data": {
      "image/png": "[encoded data removed]",
      "text/plain": [
       "<Figure size 432x288 with 1 Axes>"
      ]
     },
     "metadata": {
      "needs_background": "light"
     },
     "output_type": "display_data"
    }
   ],
   "source": [
    "plt.plot(train_losses,'-o')\n",
    "plt.plot(eval_losses,'-o')\n",
    "plt.xlabel('epoch')\n",
    "plt.ylabel('losses')\n",
    "plt.legend(['Train','Valid'])\n",
    "plt.title('Train vs Valid Losses')\n",
    "\n",
    "plt.show()"
   ]
  },
  {
   "cell_type": "code",
   "execution_count": 32,
   "metadata": {},
   "outputs": [],
   "source": [
    "PATH = './extendend_dataset_augementations.pth'\n",
    "torch.save(model.state_dict(), PATH)"
   ]
  },
  {
   "cell_type": "code",
   "execution_count": 33,
   "metadata": {},
   "outputs": [
    {
     "name": "stdout",
     "output_type": "stream",
     "text": [
      "Accuracy for class:  0 is 91.9 %\n",
      "Accuracy for class:  1 is 91.5 %\n"
     ]
    }
   ],
   "source": [
    "classes = [0,1]\n",
    "correct_pred = {classname: 0 for classname in classes}\n",
    "total_pred = {classname: 0 for classname in classes}\n",
    "with torch.no_grad():\n",
    "    for data in test_dataloader:\n",
    "        inputs = data[\"pixel_values\"].to(device)\n",
    "        labels = data[\"label\"].to(device)\n",
    "        outputs = model(inputs)\n",
    "\n",
    "        _, predictions = torch.max(outputs, 1)\n",
    "        # collect the correct predictions for each class\n",
    "        for label, prediction in zip(labels, predictions):\n",
    "            if label == prediction:\n",
    "                correct_pred[classes[label]] += 1\n",
    "            total_pred[classes[label]] += 1\n",
    "\n",
    "for classname, correct_count in correct_pred.items():\n",
    "    accuracy = 100 * float(correct_count) / total_pred[classname]\n",
    "    print(f'Accuracy for class: ',classname, \"is \" f'{accuracy:.1f} %')"
   ]
  }
 ],
 "metadata": {
  "kernelspec": {
   "display_name": "py38",
   "language": "python",
   "name": "python3"
  },
  "language_info": {
   "codemirror_mode": {
    "name": "ipython",
    "version": 3
   },
   "file_extension": ".py",
   "mimetype": "text/x-python",
   "name": "python",
   "nbconvert_exporter": "python",
   "pygments_lexer": "ipython3",
   "version": "3.8.16"
  },
  "orig_nbformat": 4
 },
 "nbformat": 4,
 "nbformat_minor": 2
}
