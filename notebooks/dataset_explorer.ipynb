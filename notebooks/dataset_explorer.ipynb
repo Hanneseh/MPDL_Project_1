{
 "cells": [
  {
   "attachments": {},
   "cell_type": "markdown",
   "metadata": {},
   "source": [
    "# Dataset Explorer\n",
    "\n",
    "To work with the diffusionDB and imagenet datasets, both of which are available on Hugging Face, follow these steps:\n",
    "\n",
    "1. Install the requirements listed in requirements.txt.\n",
    "2. Create or log in to your Hugging Face account.\n",
    "3. Generate an access token.\n",
    "4. Type \"huggingface-cli login\" in your terminal.\n",
    "5. Paste your access token when prompted. Note that you will need to log in via your machine's command line interface to access the imagenet dataset.\n",
    "6. Accept the terms and conditions on the imagenet dataset Hugging Face site: https://huggingface.co/datasets/imagenet-1k.\n",
    "7. (Optional) Visit the diffusionDB site on Hugging Face: https://huggingface.co/datasets/poloclub/diffusiondb.\n"
   ]
  },
  {
   "cell_type": "code",
   "execution_count": 1,
   "metadata": {},
   "outputs": [],
   "source": [
    "import datasets\n",
    "from tqdm import tqdm\n",
    "\n",
    "# # loader builders to check if setup is correct\n",
    "# diffusion_db_builder = datasets.load_dataset_builder(\"poloclub/diffusiondb\", \"2m_all\")\n",
    "# image_net_builder = datasets.load_dataset_builder(\"imagenet-1k\")"
   ]
  },
  {
   "cell_type": "code",
   "execution_count": 2,
   "metadata": {},
   "outputs": [],
   "source": [
    "# Download the datasets only 100 images for testing\n",
    "image_net_dataset = datasets.load_dataset(\"imagenet-1k\", streaming=True)\n",
    "diffusion_db_dataset = datasets.load_dataset(\"poloclub/diffusiondb\", \"2m_all\", streaming=True)"
   ]
  },
  {
   "cell_type": "code",
   "execution_count": 3,
   "metadata": {},
   "outputs": [
    {
     "name": "stderr",
     "output_type": "stream",
     "text": [
      "10it [00:01,  9.17it/s]\n",
      "10it [00:34,  3.40s/it]"
     ]
    },
    {
     "name": "stdout",
     "output_type": "stream",
     "text": [
      "Number of images downloaded from ImageNet: 10\n",
      "Number of images downloaded from DiffusionDB: 10\n"
     ]
    },
    {
     "name": "stderr",
     "output_type": "stream",
     "text": [
      "\n"
     ]
    }
   ],
   "source": [
    "# Download the first 10 images from the ImageNet dataset\n",
    "image_net_images = []\n",
    "for i, example in tqdm(enumerate(image_net_dataset['train'])):\n",
    "    if i == 10:\n",
    "        break\n",
    "    image_net_images.append(example)\n",
    "\n",
    "# Download the first 10 images from the DiffusionDB dataset\n",
    "diffusion_db_images = []\n",
    "for i, example in tqdm(enumerate(diffusion_db_dataset['train'])):\n",
    "    if i == 10:\n",
    "        break\n",
    "    diffusion_db_images.append(example)\n",
    "\n",
    "# Print the number of images downloaded for each dataset\n",
    "print(f\"Number of images downloaded from ImageNet: {len(image_net_images)}\")\n",
    "print(f\"Number of images downloaded from DiffusionDB: {len(diffusion_db_images)}\")"
   ]
  },
  {
   "cell_type": "code",
   "execution_count": 4,
   "metadata": {},
   "outputs": [
    {
     "data": {
      "text/plain": [
       "[{'image': <PIL.JpegImagePlugin.JpegImageFile image mode=RGB size=817x363>,\n",
       "  'label': 726},\n",
       " {'image': <PIL.JpegImagePlugin.JpegImageFile image mode=RGB size=500x491>,\n",
       "  'label': 917},\n",
       " {'image': <PIL.JpegImagePlugin.JpegImageFile image mode=RGB size=500x375>,\n",
       "  'label': 13},\n",
       " {'image': <PIL.JpegImagePlugin.JpegImageFile image mode=RGB size=500x375>,\n",
       "  'label': 939},\n",
       " {'image': <PIL.JpegImagePlugin.JpegImageFile image mode=RGB size=500x375>,\n",
       "  'label': 6},\n",
       " {'image': <PIL.JpegImagePlugin.JpegImageFile image mode=RGB size=500x333>,\n",
       "  'label': 983},\n",
       " {'image': <PIL.JpegImagePlugin.JpegImageFile image mode=RGB size=221x500>,\n",
       "  'label': 655},\n",
       " {'image': <PIL.JpegImagePlugin.JpegImageFile image mode=RGB size=500x333>,\n",
       "  'label': 579},\n",
       " {'image': <PIL.JpegImagePlugin.JpegImageFile image mode=RGB size=288x173>,\n",
       "  'label': 702},\n",
       " {'image': <PIL.JpegImagePlugin.JpegImageFile image mode=RGB size=500x370>,\n",
       "  'label': 845}]"
      ]
     },
     "execution_count": 4,
     "metadata": {},
     "output_type": "execute_result"
    }
   ],
   "source": [
    "image_net_images"
   ]
  },
  {
   "cell_type": "code",
   "execution_count": null,
   "metadata": {},
   "outputs": [],
   "source": []
  }
 ],
 "metadata": {
  "kernelspec": {
   "display_name": "dl_praktikum",
   "language": "python",
   "name": "python3"
  },
  "language_info": {
   "codemirror_mode": {
    "name": "ipython",
    "version": 3
   },
   "file_extension": ".py",
   "mimetype": "text/x-python",
   "name": "python",
   "nbconvert_exporter": "python",
   "pygments_lexer": "ipython3",
   "version": "3.11.2"
  },
  "orig_nbformat": 4
 },
 "nbformat": 4,
 "nbformat_minor": 2
}
