{
 "cells": [
  {
   "attachments": {},
   "cell_type": "markdown",
   "metadata": {},
   "source": [
    "# Dataset Explorer\n",
    "\n",
    "To work with the diffusionDB and imagenet datasets, both of which are available on Hugging Face, follow these steps:\n",
    "\n",
    "1. Install the requirements listed in requirements.txt.\n",
    "2. Create or log in to your Hugging Face account.\n",
    "3. Generate an access token.\n",
    "4. Type \"huggingface-cli login\" in your terminal.\n",
    "5. Paste your access token when prompted. Note that you will need to log in via your machine's command line interface to access the imagenet dataset.\n",
    "6. Accept the terms and conditions on the imagenet dataset Hugging Face site: https://huggingface.co/datasets/imagenet-1k.\n",
    "7. (Optional) Visit the diffusionDB site on Hugging Face: https://huggingface.co/datasets/poloclub/diffusiondb.\n"
   ]
  },
  {
   "cell_type": "code",
   "execution_count": 3,
   "metadata": {},
   "outputs": [],
   "source": [
    "import datasets\n",
    "\n",
    "# loader builders to check if setup is correct\n",
    "diffusion_db_builder = datasets.load_dataset_builder(\"poloclub/diffusiondb\", \"2m_first_1k\")\n",
    "image_net_builder = datasets.load_dataset_builder(\"imagenet-1k\")"
   ]
  },
  {
   "cell_type": "code",
   "execution_count": 6,
   "metadata": {},
   "outputs": [
    {
     "name": "stdout",
     "output_type": "stream",
     "text": [
      "Downloading and preparing dataset diffusiondb/2m_first_1k to /Users/hannesehringfeld/.cache/huggingface/datasets/poloclub___diffusiondb/2m_first_1k/0.9.1/547894e3a57aa647ead68c9faf148324098f47f2bc1ab6705d670721de9d89d1...\n"
     ]
    },
    {
     "data": {
      "application/vnd.jupyter.widget-view+json": {
       "model_id": "a4e326a4c9e84fcd9eea89b39c080925",
       "version_major": 2,
       "version_minor": 0
      },
      "text/plain": [
       "Downloading data:   0%|          | 0.00/581M [00:00<?, ?B/s]"
      ]
     },
     "metadata": {},
     "output_type": "display_data"
    },
    {
     "data": {
      "application/vnd.jupyter.widget-view+json": {
       "model_id": "5644bac1314b4a61b845daa64dc71d91",
       "version_major": 2,
       "version_minor": 0
      },
      "text/plain": [
       "Downloading data:   0%|          | 0.00/195M [00:00<?, ?B/s]"
      ]
     },
     "metadata": {},
     "output_type": "display_data"
    },
    {
     "data": {
      "application/vnd.jupyter.widget-view+json": {
       "model_id": "83edfbda99044420b30702f317a3580c",
       "version_major": 2,
       "version_minor": 0
      },
      "text/plain": [
       "Generating train split: 0 examples [00:00, ? examples/s]"
      ]
     },
     "metadata": {},
     "output_type": "display_data"
    },
    {
     "name": "stdout",
     "output_type": "stream",
     "text": [
      "Dataset diffusiondb downloaded and prepared to /Users/hannesehringfeld/.cache/huggingface/datasets/poloclub___diffusiondb/2m_first_1k/0.9.1/547894e3a57aa647ead68c9faf148324098f47f2bc1ab6705d670721de9d89d1. Subsequent calls will reuse this data.\n"
     ]
    },
    {
     "data": {
      "application/vnd.jupyter.widget-view+json": {
       "model_id": "96c6c2cc91f144a999d6a4b6661e8bbd",
       "version_major": 2,
       "version_minor": 0
      },
      "text/plain": [
       "  0%|          | 0/1 [00:00<?, ?it/s]"
      ]
     },
     "metadata": {},
     "output_type": "display_data"
    },
    {
     "name": "stdout",
     "output_type": "stream",
     "text": [
      "Downloading and preparing dataset imagenet-1k/default to /Users/hannesehringfeld/.cache/huggingface/datasets/imagenet-1k/default/1.0.0/a1e9bfc56c3a7350165007d1176b15e9128fcaf9ab972147840529aed3ae52bc...\n"
     ]
    },
    {
     "data": {
      "application/vnd.jupyter.widget-view+json": {
       "model_id": "0ff8d18c73b34212a8c1e53f9fc8b21d",
       "version_major": 2,
       "version_minor": 0
      },
      "text/plain": [
       "Downloading data files:   0%|          | 0/3 [00:00<?, ?it/s]"
      ]
     },
     "metadata": {},
     "output_type": "display_data"
    },
    {
     "data": {
      "application/vnd.jupyter.widget-view+json": {
       "model_id": "947f299d859047c2a5eedfdf18919cfb",
       "version_major": 2,
       "version_minor": 0
      },
      "text/plain": [
       "Downloading data:   0%|          | 0.00/29.1G [00:00<?, ?B/s]"
      ]
     },
     "metadata": {},
     "output_type": "display_data"
    }
   ],
   "source": [
    "# Download the datasets\n",
    "diffusion_db_dataset = datasets.load_dataset(\"poloclub/diffusiondb\", \"2m_first_1k\")\n",
    "image_net_dataset = datasets.load_dataset(\"imagenet-1k\")"
   ]
  },
  {
   "cell_type": "code",
   "execution_count": 5,
   "metadata": {},
   "outputs": [
    {
     "ename": "TypeError",
     "evalue": "'NoneType' object is not subscriptable",
     "output_type": "error",
     "traceback": [
      "\u001b[0;31m---------------------------------------------------------------------------\u001b[0m",
      "\u001b[0;31mTypeError\u001b[0m                                 Traceback (most recent call last)",
      "Cell \u001b[0;32mIn[5], line 2\u001b[0m\n\u001b[1;32m      1\u001b[0m \u001b[39m# checkout size of datasets per split\u001b[39;00m\n\u001b[0;32m----> 2\u001b[0m \u001b[39mprint\u001b[39m(\u001b[39m\"\u001b[39m\u001b[39mDiffusionDB size: \u001b[39m\u001b[39m\"\u001b[39m, diffusion_db_builder\u001b[39m.\u001b[39;49minfo\u001b[39m.\u001b[39;49msplits[\u001b[39m\"\u001b[39;49m\u001b[39mtrain\u001b[39;49m\u001b[39m\"\u001b[39;49m]\u001b[39m.\u001b[39mnum_examples)\n",
      "\u001b[0;31mTypeError\u001b[0m: 'NoneType' object is not subscriptable"
     ]
    }
   ],
   "source": [
    "# Get the available splits for both datasets\n",
    "diffusion_db_splits = datasets.get_dataset_split_names(\"poloclub/diffusiondb\", \"2m_first_1k\")\n",
    "image_net_splits = datasets.get_dataset_split_names(\"imagenet-1k\")\n",
    "\n",
    "# Print the number of examples in each split for both datasets\n",
    "print(\"DiffusionDB dataset size:\")\n",
    "for split in diffusion_db_splits:\n",
    "    print(f\"{split}: {len(diffusion_db_dataset[split])} examples\")\n",
    "\n",
    "print(\"\\nImageNet dataset size:\")\n",
    "for split in image_net_splits:\n",
    "    print(f\"{split}: {len(image_net_dataset[split])} examples\")"
   ]
  },
  {
   "cell_type": "code",
   "execution_count": null,
   "metadata": {},
   "outputs": [],
   "source": []
  }
 ],
 "metadata": {
  "kernelspec": {
   "display_name": "dl_praktikum",
   "language": "python",
   "name": "python3"
  },
  "language_info": {
   "codemirror_mode": {
    "name": "ipython",
    "version": 3
   },
   "file_extension": ".py",
   "mimetype": "text/x-python",
   "name": "python",
   "nbconvert_exporter": "python",
   "pygments_lexer": "ipython3",
   "version": "3.11.2"
  },
  "orig_nbformat": 4
 },
 "nbformat": 4,
 "nbformat_minor": 2
}
