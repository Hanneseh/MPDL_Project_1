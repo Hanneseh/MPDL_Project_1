{
 "cells": [
  {
   "attachments": {},
   "cell_type": "markdown",
   "metadata": {},
   "source": [
    "# Dataset Explorer\n",
    "\n",
    "Links:\n",
    "\n",
    "- [Imagenette](https://huggingface.co/datasets/frgfm/imagenette)\n",
    "- [DiffusionDB](https://huggingface.co/datasets/poloclub/diffusiondb)"
   ]
  },
  {
   "cell_type": "code",
   "execution_count": 1,
   "metadata": {},
   "outputs": [],
   "source": [
    "import datasets\n",
    "from tqdm import tqdm\n",
    "\n",
    "# # loader builders to check if setup is correct\n",
    "# diffusion_db_builder = datasets.load_dataset_builder(\"poloclub/diffusiondb\", \"2m_all\")\n",
    "# image_net_builder = datasets.load_dataset_builder(\"imagenet-1k\")"
   ]
  },
  {
   "cell_type": "code",
   "execution_count": 2,
   "metadata": {},
   "outputs": [],
   "source": [
    "# Download the datasets only 100 images for testing\n",
    "imagenette_dataset = datasets.load_dataset(\"frgfm/imagenette\", \"full_size\", streaming=True)\n",
    "diffusion_db_dataset = datasets.load_dataset(\"poloclub/diffusiondb\", \"2m_all\", streaming=True)"
   ]
  },
  {
   "cell_type": "code",
   "execution_count": 4,
   "metadata": {},
   "outputs": [
    {
     "name": "stderr",
     "output_type": "stream",
     "text": [
      "10it [01:13,  7.34s/it]\n",
      "10it [00:33,  3.33s/it]"
     ]
    },
    {
     "name": "stdout",
     "output_type": "stream",
     "text": [
      "Number of images downloaded from ImageNet: 10\n",
      "Number of images downloaded from DiffusionDB: 10\n"
     ]
    },
    {
     "name": "stderr",
     "output_type": "stream",
     "text": [
      "\n"
     ]
    }
   ],
   "source": [
    "# Download the first 10 images from the ImageNet dataset\n",
    "imagenette_images = []\n",
    "for i, example in tqdm(enumerate(imagenette_dataset['train'])):\n",
    "    if i == 10:\n",
    "        break\n",
    "    imagenette_images.append(example)\n",
    "\n",
    "# Download the first 10 images from the DiffusionDB dataset\n",
    "diffusion_db_images = []\n",
    "for i, example in tqdm(enumerate(diffusion_db_dataset['train'])):\n",
    "    if i == 10:\n",
    "        break\n",
    "    diffusion_db_images.append(example)\n",
    "\n",
    "# Print the number of images downloaded for each dataset\n",
    "print(f\"Number of images downloaded from ImageNet: {len(imagenette_images)}\")\n",
    "print(f\"Number of images downloaded from DiffusionDB: {len(diffusion_db_images)}\")"
   ]
  },
  {
   "cell_type": "code",
   "execution_count": 5,
   "metadata": {},
   "outputs": [
    {
     "data": {
      "text/plain": [
       "[{'image': <PIL.JpegImagePlugin.JpegImageFile image mode=RGB size=500x281>,\n",
       "  'label': 2},\n",
       " {'image': <PIL.JpegImagePlugin.JpegImageFile image mode=RGB size=500x375>,\n",
       "  'label': 2},\n",
       " {'image': <PIL.JpegImagePlugin.JpegImageFile image mode=RGB size=360x275>,\n",
       "  'label': 2},\n",
       " {'image': <PIL.JpegImagePlugin.JpegImageFile image mode=RGB size=376x300>,\n",
       "  'label': 2},\n",
       " {'image': <PIL.JpegImagePlugin.JpegImageFile image mode=RGB size=100x100>,\n",
       "  'label': 2},\n",
       " {'image': <PIL.JpegImagePlugin.JpegImageFile image mode=RGB size=500x375>,\n",
       "  'label': 2},\n",
       " {'image': <PIL.JpegImagePlugin.JpegImageFile image mode=RGB size=380x237>,\n",
       "  'label': 2},\n",
       " {'image': <PIL.JpegImagePlugin.JpegImageFile image mode=RGB size=500x375>,\n",
       "  'label': 2},\n",
       " {'image': <PIL.JpegImagePlugin.JpegImageFile image mode=RGB size=124x110>,\n",
       "  'label': 2},\n",
       " {'image': <PIL.JpegImagePlugin.JpegImageFile image mode=RGB size=500x333>,\n",
       "  'label': 2}]"
      ]
     },
     "execution_count": 5,
     "metadata": {},
     "output_type": "execute_result"
    }
   ],
   "source": [
    "imagenette_images"
   ]
  },
  {
   "cell_type": "code",
   "execution_count": 6,
   "metadata": {},
   "outputs": [
    {
     "data": {
      "text/plain": [
       "[{'image': <PIL.PngImagePlugin.PngImageFile image mode=RGB size=512x512>,\n",
       "  'prompt': 'doom eternal, game concept art, veins and worms, muscular, crustacean exoskeleton, chiroptera head, chiroptera ears, mecha, ferocious, fierce, hyperrealism, fine details, artstation, cgsociety, zbrush, no background ',\n",
       "  'seed': 3312523387,\n",
       "  'step': 50,\n",
       "  'cfg': 7.0,\n",
       "  'sampler': 'k_euler',\n",
       "  'width': 512,\n",
       "  'height': 512,\n",
       "  'user_name': '596a88297105687d60162aaef5c077407170fda8ebf59f14822ac3b486abbc0d',\n",
       "  'timestamp': datetime.datetime(2022, 8, 20, 13, 3, tzinfo=<UTC>),\n",
       "  'image_nsfw': 0.15645408630371094,\n",
       "  'prompt_nsfw': 0.008111722767353058},\n",
       " {'image': <PIL.PngImagePlugin.PngImageFile image mode=RGB size=512x896>,\n",
       "  'prompt': 'a beautiful photorealistic painting of cemetery urbex unfinished building building industrial architecture nature abandoned by thomas cole, nature extraterrestial tron forest darkacademia thermal vision futuristic tokyo, archdaily, wallpaper, highly detailed, trending on artstation. ',\n",
       "  'seed': 3602562681,\n",
       "  'step': 50,\n",
       "  'cfg': 15.0,\n",
       "  'sampler': 'k_lms',\n",
       "  'width': 512,\n",
       "  'height': 896,\n",
       "  'user_name': 'edbb4de830541f34a8f7d363bf8e375a4e65e6abed47aed3140ecae59ec17d89',\n",
       "  'timestamp': datetime.datetime(2022, 8, 20, 13, 4, tzinfo=<UTC>),\n",
       "  'image_nsfw': 0.08433201909065247,\n",
       "  'prompt_nsfw': 0.00020719821623060852},\n",
       " {'image': <PIL.PngImagePlugin.PngImageFile image mode=RGB size=512x512>,\n",
       "  'prompt': 'doom eternal, evangelion, game concept art, veins and worms, muscular, crustacean exoskeleton, chiroptera head, chiroptera ears, mecha, ferocious, fierce, hyperrealism, fine details, artstation, cgsociety, zbrush, no background ',\n",
       "  'seed': 917080921,\n",
       "  'step': 50,\n",
       "  'cfg': 7.0,\n",
       "  'sampler': 'k_euler',\n",
       "  'width': 512,\n",
       "  'height': 512,\n",
       "  'user_name': '596a88297105687d60162aaef5c077407170fda8ebf59f14822ac3b486abbc0d',\n",
       "  'timestamp': datetime.datetime(2022, 8, 20, 13, 4, tzinfo=<UTC>),\n",
       "  'image_nsfw': 0.5347370505332947,\n",
       "  'prompt_nsfw': 0.005789241287857294},\n",
       " {'image': <PIL.PngImagePlugin.PngImageFile image mode=RGB size=512x512>,\n",
       "  'prompt': 'doom eternal, metro exodus, game concept art, veins and worms, muscular, crustacean exoskeleton, chiroptera head, chiroptera ears, mecha, ferocious, fierce, hyperrealism, fine details, artstation, cgsociety, zbrush, no background ',\n",
       "  'seed': 1006826059,\n",
       "  'step': 50,\n",
       "  'cfg': 7.0,\n",
       "  'sampler': 'k_euler',\n",
       "  'width': 512,\n",
       "  'height': 512,\n",
       "  'user_name': '596a88297105687d60162aaef5c077407170fda8ebf59f14822ac3b486abbc0d',\n",
       "  'timestamp': datetime.datetime(2022, 8, 20, 13, 6, tzinfo=<UTC>),\n",
       "  'image_nsfw': 0.26606321334838867,\n",
       "  'prompt_nsfw': 0.005959576927125454},\n",
       " {'image': <PIL.PngImagePlugin.PngImageFile image mode=RGB size=512x896>,\n",
       "  'prompt': \"industrial architecture by zack snyder, atlantis at dawn laser meadow wilderness sunlight neon noir architecture island sunset tundra futuristic alien cosmic hyperrealism fisheye at dusk assassin's creed, archdaily, wallpaper, highly detailed, trending on artstation. \",\n",
       "  'seed': 1609651727,\n",
       "  'step': 50,\n",
       "  'cfg': 15.0,\n",
       "  'sampler': 'k_lms',\n",
       "  'width': 512,\n",
       "  'height': 896,\n",
       "  'user_name': 'edbb4de830541f34a8f7d363bf8e375a4e65e6abed47aed3140ecae59ec17d89',\n",
       "  'timestamp': datetime.datetime(2022, 8, 20, 13, 6, tzinfo=<UTC>),\n",
       "  'image_nsfw': 0.10969136655330658,\n",
       "  'prompt_nsfw': 0.0009766177972778678},\n",
       " {'image': <PIL.PngImagePlugin.PngImageFile image mode=RGB size=512x512>,\n",
       "  'prompt': 'a beautiful painting of chernobyl by nekro, pascal blanche, john harris, greg rutkowski, sin jong hun, moebius, simon stalenhag. in style of cg art. ray tracing. cel shading. hyper detailed. realistic. ue 5. maya. octane render. ',\n",
       "  'seed': 1932037034,\n",
       "  'step': 50,\n",
       "  'cfg': 7.0,\n",
       "  'sampler': 'k_lms',\n",
       "  'width': 512,\n",
       "  'height': 512,\n",
       "  'user_name': '6293952ee615a66942687b495bbcf832954e2a3cd5118f9506cac401ad1ce5ed',\n",
       "  'timestamp': datetime.datetime(2022, 8, 20, 13, 7, tzinfo=<UTC>),\n",
       "  'image_nsfw': 0.04882443696260452,\n",
       "  'prompt_nsfw': 0.0036374328192323446},\n",
       " {'image': <PIL.PngImagePlugin.PngImageFile image mode=RGB size=512x512>,\n",
       "  'prompt': 'doom eternal, metro exodus, game concept art, veins and worms, muscular, crustacean exoskeleton, chiroptera head, chiroptera ears, mecha, ferocious, fierce, hyperrealism, fine details, artstation, cgsociety, zbrush, no background ',\n",
       "  'seed': 1494365183,\n",
       "  'step': 50,\n",
       "  'cfg': 7.0,\n",
       "  'sampler': 'k_euler',\n",
       "  'width': 512,\n",
       "  'height': 512,\n",
       "  'user_name': '596a88297105687d60162aaef5c077407170fda8ebf59f14822ac3b486abbc0d',\n",
       "  'timestamp': datetime.datetime(2022, 8, 20, 13, 9, tzinfo=<UTC>),\n",
       "  'image_nsfw': 0.1969214528799057,\n",
       "  'prompt_nsfw': 0.005959576927125454},\n",
       " {'image': <PIL.PngImagePlugin.PngImageFile image mode=RGB size=512x896>,\n",
       "  'prompt': 'building by denise scott brown, tron tokyo anime at night alien flowers cgsociety nightvision at dusk nightsky sunlight dramatic lighting fisheye studio ghibli cyberpunk at dawn rainforest thermal vision thermal imaging reclaimed by nature darkacademia myst meadow retrowave landscape, archdaily, wallpaper, highly detailed, trending on artstation. ',\n",
       "  'seed': 2556825284,\n",
       "  'step': 50,\n",
       "  'cfg': 15.0,\n",
       "  'sampler': 'k_lms',\n",
       "  'width': 512,\n",
       "  'height': 896,\n",
       "  'user_name': 'edbb4de830541f34a8f7d363bf8e375a4e65e6abed47aed3140ecae59ec17d89',\n",
       "  'timestamp': datetime.datetime(2022, 8, 20, 13, 9, tzinfo=<UTC>),\n",
       "  'image_nsfw': 0.05934755131602287,\n",
       "  'prompt_nsfw': 0.0009038135758601129},\n",
       " {'image': <PIL.PngImagePlugin.PngImageFile image mode=RGB size=768x512>,\n",
       "  'prompt': 'only with red, a red lizardman iattacked by technology, red computers wires, in a red laboratory, dorohedoro vibes, in the style of beksinski, parts by edward hopper, parts by michael sowa, parts by yue minjun, intricate composition, red by caravaggio, highly quality, highly detailed, masterpiece, red light, artstation, 4 k',\n",
       "  'seed': 569452198,\n",
       "  'step': 50,\n",
       "  'cfg': 5.0,\n",
       "  'sampler': 'k_lms',\n",
       "  'width': 768,\n",
       "  'height': 512,\n",
       "  'user_name': '439e936e49621a885a3264ada39f93c78b9f1180c88b4616da4dcd53897c3899',\n",
       "  'timestamp': datetime.datetime(2022, 8, 20, 13, 10, tzinfo=<UTC>),\n",
       "  'image_nsfw': 0.10219955444335938,\n",
       "  'prompt_nsfw': 0.00292953965254128},\n",
       " {'image': <PIL.PngImagePlugin.PngImageFile image mode=RGB size=512x896>,\n",
       "  'prompt': 'a beautiful very detailed illustration of abandoned urbex unfinished building city nature industrial architecture architecture building spaceport by caspar david friedrich, scumm bar meadow nature synthwave, archdaily, wallpaper, highly detailed, trending on artstation. ',\n",
       "  'seed': 2636909733,\n",
       "  'step': 50,\n",
       "  'cfg': 15.0,\n",
       "  'sampler': 'k_lms',\n",
       "  'width': 512,\n",
       "  'height': 896,\n",
       "  'user_name': 'edbb4de830541f34a8f7d363bf8e375a4e65e6abed47aed3140ecae59ec17d89',\n",
       "  'timestamp': datetime.datetime(2022, 8, 20, 13, 12, tzinfo=<UTC>),\n",
       "  'image_nsfw': 0.07581406831741333,\n",
       "  'prompt_nsfw': 0.0004394728457555175}]"
      ]
     },
     "execution_count": 6,
     "metadata": {},
     "output_type": "execute_result"
    }
   ],
   "source": [
    "diffusion_db_images"
   ]
  },
  {
   "cell_type": "code",
   "execution_count": 7,
   "metadata": {},
   "outputs": [
    {
     "data": {
      "text/plain": [
       "{'image': <PIL.JpegImagePlugin.JpegImageFile image mode=RGB size=500x281>,\n",
       " 'label': 2}"
      ]
     },
     "execution_count": 7,
     "metadata": {},
     "output_type": "execute_result"
    }
   ],
   "source": [
    "imagenette_images[0]"
   ]
  },
  {
   "cell_type": "code",
   "execution_count": 8,
   "metadata": {},
   "outputs": [
    {
     "data": {
      "text/plain": [
       "{'image': <PIL.PngImagePlugin.PngImageFile image mode=RGB size=512x512>,\n",
       " 'prompt': 'doom eternal, game concept art, veins and worms, muscular, crustacean exoskeleton, chiroptera head, chiroptera ears, mecha, ferocious, fierce, hyperrealism, fine details, artstation, cgsociety, zbrush, no background ',\n",
       " 'seed': 3312523387,\n",
       " 'step': 50,\n",
       " 'cfg': 7.0,\n",
       " 'sampler': 'k_euler',\n",
       " 'width': 512,\n",
       " 'height': 512,\n",
       " 'user_name': '596a88297105687d60162aaef5c077407170fda8ebf59f14822ac3b486abbc0d',\n",
       " 'timestamp': datetime.datetime(2022, 8, 20, 13, 3, tzinfo=<UTC>),\n",
       " 'image_nsfw': 0.15645408630371094,\n",
       " 'prompt_nsfw': 0.008111722767353058}"
      ]
     },
     "execution_count": 8,
     "metadata": {},
     "output_type": "execute_result"
    }
   ],
   "source": [
    "diffusion_db_images[0]"
   ]
  },
  {
   "cell_type": "code",
   "execution_count": null,
   "metadata": {},
   "outputs": [],
   "source": []
  }
 ],
 "metadata": {
  "kernelspec": {
   "display_name": "dl_praktikum",
   "language": "python",
   "name": "python3"
  },
  "language_info": {
   "codemirror_mode": {
    "name": "ipython",
    "version": 3
   },
   "file_extension": ".py",
   "mimetype": "text/x-python",
   "name": "python",
   "nbconvert_exporter": "python",
   "pygments_lexer": "ipython3",
   "version": "3.11.2"
  },
  "orig_nbformat": 4
 },
 "nbformat": 4,
 "nbformat_minor": 2
}
