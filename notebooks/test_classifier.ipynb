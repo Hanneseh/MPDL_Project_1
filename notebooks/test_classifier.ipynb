{
 "cells": [
  {
   "cell_type": "code",
   "execution_count": 1,
   "metadata": {},
   "outputs": [],
   "source": [
    "from torch.utils.data import DataLoader\n",
    "from tqdm.notebook import tqdm_notebook\n",
    "from sklearn.metrics import f1_score, precision_score, recall_score\n",
    "import datasets\n",
    "import torch\n",
    "import torchvision\n",
    "import torchvision.transforms as T"
   ]
  },
  {
   "cell_type": "code",
   "execution_count": 2,
   "metadata": {},
   "outputs": [],
   "source": [
    "# Set device\n",
    "device = \"cpu\"\n",
    "if torch.backends.mps.is_available():\n",
    "    device = \"mps\"\n",
    "elif torch.cuda_is_available():\n",
    "    device = \"cuda\"\n",
    "\n",
    "device = torch.device(device)\n",
    "\n",
    "#Set Parameters for creating the Dataset\n",
    "num_workers = 0\n",
    "crop_size = 625\n",
    "resize = 360\n",
    "batch_size = 32"
   ]
  },
  {
   "cell_type": "code",
   "execution_count": 3,
   "metadata": {},
   "outputs": [
    {
     "name": "stderr",
     "output_type": "stream",
     "text": [
      "Found cached dataset imagefolder (/Users/pauladler/.cache/huggingface/datasets/Hanneseh___imagefolder/Hanneseh--MPDL_Project_1_custom_data-b0234636f7e76ba6/0.0.0/37fbb85cc714a338bea574ac6c7d0b5be5aff46c1862c1989b20e0771199e93f)\n"
     ]
    }
   ],
   "source": [
    "def to_3_channels(image):\n",
    "    if image.shape[0] == 3:\n",
    "        return image\n",
    "    elif image.shape[0] == 1:\n",
    "        return image.repeat(3, 1, 1)\n",
    "    else:\n",
    "        # Select the first 3 channels if the input has more than 3 channels\n",
    "        return image[:3, :, :]\n",
    "\n",
    "def collate_fn(examples):\n",
    "    images, labels = [], []\n",
    "\n",
    "    image_transform = T.Compose([\n",
    "            T.RandomCrop(crop_size, pad_if_needed=True),\n",
    "            T.Resize((resize,resize)),\n",
    "            T.ToTensor()\n",
    "        ])\n",
    "\n",
    "    # Iterate through the examples, apply the image transformation, and append the results\n",
    "    for example in examples:\n",
    "        image = image_transform(example['image'])\n",
    "        label = example['label']\n",
    "        images.append(image)\n",
    "        labels.append(label)\n",
    "\n",
    "        pixel_values = torch.stack(images)\n",
    "    labels = torch.tensor(labels)\n",
    "\n",
    "    return {\"pixel_values\": pixel_values, \"label\": labels}\n",
    "\n",
    "test_dataset = datasets.load_dataset(\"Hanneseh/MPDL_Project_1_custom_data\", split=\"test\")\n",
    "test_dataloader = DataLoader(test_dataset, collate_fn=collate_fn, batch_size=batch_size, num_workers=num_workers, shuffle=True)"
   ]
  },
  {
   "cell_type": "code",
   "execution_count": 4,
   "metadata": {},
   "outputs": [
    {
     "name": "stderr",
     "output_type": "stream",
     "text": [
      "/Users/pauladler/MPDL_Project_1/.venv/lib/python3.9/site-packages/torchvision/models/_utils.py:208: UserWarning: The parameter 'pretrained' is deprecated since 0.13 and may be removed in the future, please use 'weights' instead.\n",
      "  warnings.warn(\n",
      "/Users/pauladler/MPDL_Project_1/.venv/lib/python3.9/site-packages/torchvision/models/_utils.py:223: UserWarning: Arguments other than a weight enum or `None` for 'weights' are deprecated since 0.13 and may be removed in the future. The current behavior is equivalent to passing `weights=ResNet50_Weights.IMAGENET1K_V1`. You can also use `weights=ResNet50_Weights.DEFAULT` to get the most up-to-date weights.\n",
      "  warnings.warn(msg)\n"
     ]
    }
   ],
   "source": [
    "PATH = './../models/resnet50_dataset_3_lr_0_0001_final.pth'\n",
    "\n",
    "model = torchvision.models.resnet50(pretrained=True)\n",
    "model.fc = torch.nn.Linear(model.fc.in_features, 2)\n",
    "model.load_state_dict(torch.load(PATH, map_location=device))\n",
    "model.eval()\n",
    "model = model.to(device)"
   ]
  },
  {
   "cell_type": "code",
   "execution_count": 5,
   "metadata": {},
   "outputs": [
    {
     "data": {
      "application/vnd.jupyter.widget-view+json": {
       "model_id": "86e5cc84c423452d853f419b6fbb4276",
       "version_major": 2,
       "version_minor": 0
      },
      "text/plain": [
       "  0%|          | 0/500 [00:00<?, ?it/s]"
      ]
     },
     "metadata": {},
     "output_type": "display_data"
    },
    {
     "name": "stdout",
     "output_type": "stream",
     "text": [
      "Accuracy: 88.681 | F1-score: 0.895 | Precision: 0.836 | Recall: 0.962\n"
     ]
    }
   ],
   "source": [
    "correct, total, test_loss = 0, 0, 0\n",
    "all_labels, all_predicted = [], []\n",
    "\n",
    "with torch.no_grad():\n",
    "    for element in tqdm_notebook(test_dataloader):\n",
    "        inputs = element[\"pixel_values\"].to(device)\n",
    "        labels = element[\"label\"].to(device)\n",
    "\n",
    "        _, predicted = model(inputs).max(1)\n",
    "\n",
    "        total += labels.size(0)\n",
    "        correct += predicted.eq(labels).sum().item()\n",
    "        \n",
    "        all_labels.extend(labels.cpu().numpy())\n",
    "        all_predicted.extend(predicted.cpu().numpy())\n",
    "\n",
    "accuracy = 100. * correct / total\n",
    "\n",
    "# Calculate F1-score, precision, and recall\n",
    "f1 = f1_score(all_labels, all_predicted, average='binary')\n",
    "precision = precision_score(all_labels, all_predicted, average='binary')\n",
    "recall = recall_score(all_labels, all_predicted, average='binary')\n",
    "\n",
    "print('Accuracy: %.3f | F1-score: %.3f | Precision: %.3f | Recall: %.3f' % (accuracy, f1, precision, recall))"
   ]
  },
  {
   "cell_type": "code",
   "execution_count": 6,
   "metadata": {},
   "outputs": [
    {
     "name": "stderr",
     "output_type": "stream",
     "text": [
      "/Users/pauladler/MPDL_Project_1/.venv/lib/python3.9/site-packages/torchvision/models/_utils.py:208: UserWarning: The parameter 'pretrained' is deprecated since 0.13 and may be removed in the future, please use 'weights' instead.\n",
      "  warnings.warn(\n",
      "/Users/pauladler/MPDL_Project_1/.venv/lib/python3.9/site-packages/torchvision/models/_utils.py:223: UserWarning: Arguments other than a weight enum or `None` for 'weights' are deprecated since 0.13 and may be removed in the future. The current behavior is equivalent to passing `weights=ResNet50_Weights.IMAGENET1K_V1`. You can also use `weights=ResNet50_Weights.DEFAULT` to get the most up-to-date weights.\n",
      "  warnings.warn(msg)\n"
     ]
    }
   ],
   "source": [
    "class customThreshold(torch.nn.Module):\n",
    "    def __init__(self, fake_label):\n",
    "        super(customThreshold, self).__init__()\n",
    "        self.fake_label = fake_label\n",
    "\n",
    "    def forward(self, x):\n",
    "        prob = torch.sigmoid(x[:, self.fake_label]) # extract probability of fake\n",
    "        pred = (prob >= 0.5).float() # threshold probability\n",
    "        return (prob.view(-1, 1), pred.view(-1, 1))\n",
    "    \n",
    "\n",
    "model = torchvision.models.resnet50(pretrained=True)\n",
    "model.fc = torch.nn.Linear(model.fc.in_features, 2)\n",
    "model.load_state_dict(torch.load(PATH, map_location=device))\n",
    "model.eval()\n",
    "model = model.to(device)\n",
    "model.fc = torch.nn.Sequential(model.fc, customThreshold(1))"
   ]
  },
  {
   "cell_type": "code",
   "execution_count": 7,
   "metadata": {},
   "outputs": [
    {
     "data": {
      "application/vnd.jupyter.widget-view+json": {
       "model_id": "7c7e3e51918542d983b9ddec945e082c",
       "version_major": 2,
       "version_minor": 0
      },
      "text/plain": [
       "  0%|          | 0/500 [00:00<?, ?it/s]"
      ]
     },
     "metadata": {},
     "output_type": "display_data"
    },
    {
     "name": "stdout",
     "output_type": "stream",
     "text": [
      "Accuracy: 88.625 | F1-score: 0.894 | Precision: 0.835 | Recall: 0.963\n"
     ]
    }
   ],
   "source": [
    "correct, total, test_loss = 0, 0, 0\n",
    "all_labels, all_predicted = [], []\n",
    "\n",
    "with torch.no_grad():\n",
    "    for element in tqdm_notebook(test_dataloader):\n",
    "        inputs = element[\"pixel_values\"].to(device)\n",
    "        labels = element[\"label\"].to(device)\n",
    "\n",
    "        predicted = torch.squeeze(model(inputs)[1])\n",
    "        total += labels.size(0)\n",
    "        correct += predicted.eq(labels).sum().item()\n",
    "        \n",
    "        all_labels.extend(labels.cpu().numpy())\n",
    "        all_predicted.extend(predicted.cpu().numpy())\n",
    "\n",
    "accuracy = 100. * correct / total\n",
    "\n",
    "f1 = f1_score(all_labels, all_predicted, average='binary')\n",
    "precision = precision_score(all_labels, all_predicted, average='binary')\n",
    "recall = recall_score(all_labels, all_predicted, average='binary')\n",
    "\n",
    "print('Accuracy: %.3f | F1-score: %.3f | Precision: %.3f | Recall: %.3f' % (accuracy, f1, precision, recall))"
   ]
  }
 ],
 "metadata": {
  "kernelspec": {
   "display_name": ".venv",
   "language": "python",
   "name": "python3"
  },
  "language_info": {
   "codemirror_mode": {
    "name": "ipython",
    "version": 3
   },
   "file_extension": ".py",
   "mimetype": "text/x-python",
   "name": "python",
   "nbconvert_exporter": "python",
   "pygments_lexer": "ipython3",
   "version": "3.9.6"
  },
  "orig_nbformat": 4
 },
 "nbformat": 4,
 "nbformat_minor": 2
}
